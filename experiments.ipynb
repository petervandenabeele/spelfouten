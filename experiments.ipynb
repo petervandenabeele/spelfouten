{
 "cells": [
  {
   "cell_type": "code",
   "execution_count": 1,
   "metadata": {},
   "outputs": [
    {
     "output_type": "stream",
     "name": "stdout",
     "text": "test\n"
    }
   ],
   "source": [
    "print(\"test\")"
   ]
  },
  {
   "cell_type": "code",
   "execution_count": 5,
   "metadata": {
    "tags": [
     "outputPrepend"
    ]
   },
   "outputs": [
    {
     "output_type": "stream",
     "name": "stdout",
     "text": "Voor communicatie werd het zend- en ontvangstation Radio Malabar gebruikt, dat intercontinentaal telefoneren mogelijk maakte met Nederland.\nPZB bestaat uit een passieve LC-kring naast het spoor bij het sein en een actieve zend/ontvangspoel aan de trein.\nin Openbaringen 1 schrijft Johannes het volgende: Hetgeen gij ziet, schrijf dat in een boek en zend het aan de zeven gemeenten.\nDe zend- en ontvangstapparatuur is meestal ondergebracht in een gebouw, kast of container.\nRTL 4 zend het programma in december 2019 en januari 2020 uit.\nEen oplossing is dan een digitale hoofdtelefoon die in en rond de 2,4 GHz ontvangt en zend.\nEn in het heldendicht Hákonarmál is het Hákon de Goede die naar Walhalla wordt gevoerd door de walkure Göndul en Odin zend Hermóðr en Bragi om hem te begroeten.\nVal binnen als de bewoners om hulp vragen, neem het land in, zend kolonisten naar het gebied of de vorst moet er zelf gaan wonen.\n1000000\n21\n"
    }
   ],
   "source": [
    "import re\n",
    "sample_file_name = \"../dutch-language/data/sample-sentences-nlwiki.txt\"\n",
    "short_file_name = \"../dutch-language/data/short-sentences-nlwiki.txt\"\n",
    "full_file_name = \"../dutch-language/data/clean-sentences-nlwiki.txt\"\n",
    "corrected_file_name = \"../dutch-language/data/corrected-sentences-nlwiki.txt\"\n",
    "\n",
    "file_name = corrected_file_name\n",
    "\n",
    "regex_worden = re.compile(r'(.+ z|Z)end\\b.*')\n",
    "with open(file_name) as file:\n",
    "    total_count = 0\n",
    "    match_count = 0\n",
    "\n",
    "    for line in file:\n",
    "        if (total_count >= 1000000):\n",
    "            break\n",
    "        total_count += 1\n",
    "        clean_line = line.rstrip()\n",
    "        if (regex_worden.match(clean_line)):\n",
    "            match_count += 1\n",
    "            if (total_count > 500000):\n",
    "                print(clean_line)\n",
    "\n",
    "    print(total_count)\n",
    "    print(match_count)"
   ]
  },
  {
   "cell_type": "code",
   "execution_count": 5,
   "metadata": {},
   "outputs": [
    {
     "output_type": "stream",
     "name": "stdout",
     "text": "<class 'simpletransformers.classification.classification_model.ClassificationModel'>\n"
    }
   ],
   "source": [
    "from simpletransformers.classification import ClassificationModel\n",
    "import pandas as pd\n",
    "import logging\n",
    "\n",
    "logging.basicConfig(level=logging.INFO)\n",
    "transformers_logger = logging.getLogger(\"transformers\")\n",
    "transformers_logger.setLevel(logging.WARNING)\n",
    "\n",
    "model = ClassificationModel(\n",
    "    \"bert\", \"outputs/BERT-001\", use_cuda=True\n",
    ")\n",
    "print(type(model))\n"
   ]
  },
  {
   "cell_type": "code",
   "execution_count": 6,
   "metadata": {},
   "outputs": [
    {
     "output_type": "stream",
     "name": "stderr",
     "text": "INFO:simpletransformers.classification.classification_model: Converting to features started. Cache is not used.\n100%|██████████| 44/44 [00:00<00:00, 1547.05it/s]\n100%|██████████| 6/6 [00:01<00:00,  4.50it/s]\n[0 0 0 0 0 0 0 0 0 0 0 0 1 1 1 1 1 1 1 1 1 1 1 1 0 0 0 0 0 0 0 0 0 0 1 1 1\n 0 0 1 1 0 1 0]\n[[ 4.9011836 -4.9474177]\n [ 4.7910857 -4.720821 ]\n [ 4.733791  -4.921354 ]\n [ 4.9177537 -4.913611 ]\n [ 4.838971  -4.778938 ]\n [ 4.9278646 -4.7669377]\n [ 4.855145  -4.727303 ]\n [ 4.7080703 -4.9509273]\n [ 4.7960134 -5.075569 ]\n [ 4.794192  -4.6371403]\n [ 4.8583226 -4.9751067]\n [ 4.6117396 -5.0969477]\n [-5.32149    4.9963202]\n [-4.9000816  4.544892 ]\n [-5.1790657  4.9842153]\n [-5.2553926  4.8809614]\n [-5.3517423  4.946244 ]\n [-5.306557   4.949043 ]\n [-5.3236747  4.942291 ]\n [-5.039869   4.9698987]\n [-5.159084   4.982388 ]\n [-5.280131   4.984758 ]\n [-5.343091   4.9652734]\n [-5.1575484  4.978852 ]\n [ 3.7812762 -4.1465325]\n [ 4.730141  -4.9689956]\n [ 4.1573477 -4.5523114]\n [ 4.223512  -4.4708   ]\n [ 4.752958  -5.067515 ]\n [ 4.5089774 -4.879441 ]\n [ 4.612905  -4.973561 ]\n [ 3.8400493 -4.3206067]\n [ 4.57097   -4.750131 ]\n [ 4.6643806 -5.11017  ]\n [-5.304544   4.9210935]\n [-4.8528676  4.5946994]\n [-5.319099   4.9255366]\n [ 4.157181  -4.3478236]\n [ 4.1974235 -4.38652  ]\n [-5.3245096  4.944409 ]\n [-5.218211   4.8834004]\n [ 3.689558  -3.8320684]\n [-3.6234038  3.104234 ]\n [ 4.680645  -4.8659935]]\n\n"
    }
   ],
   "source": [
    "predictions, raw_outputs = model.predict([\n",
    "    \"Ik word nieuwsgierig.\",\n",
    "    \"Hoe word je gevraagd?\",\n",
    "    \"Wat wordt je gevraagd?\",\n",
    "    \"Wat word je opdringerig, zeg!\",\n",
    "\n",
    "    \"Ik zend een pakje.\",\n",
    "    \"Ik zend je een pakje.\",\n",
    "    \"Ik zend u een heel mooie trui.\",\n",
    "    \"Je zendt het toch nog vandaag op, hoop ik.\", #\n",
    "    \"Jij zendt een hele grote doos naar oma.\",\n",
    "    \"Zend je dat straks uit?\", #\n",
    "    \"Zend jij echt die fiets via de post?\",\n",
    "    \"Welke baas zendt je nu helemaal naar London voor 1 klant?\",\n",
    "\n",
    "    # With spelling mistake\n",
    "    \"Ik wordt nieuwsgierig.\",\n",
    "    \"Hoe wordt je gevraagd?\",\n",
    "    \"Wat word je gevraagd?\",\n",
    "    \"Wat wordt je opdringerig, zeg!\",\n",
    "\n",
    "    \"Ik zendt een pakje.\",\n",
    "    \"Ik zendt je een pakje.\",\n",
    "    \"Ik zendt u een heel mooie trui.\", #\n",
    "    \"Je zend het toch nog vandaag op, hoop ik.\",\n",
    "    \"Jij zend een hele grote doos naar oma.\",\n",
    "    \"Zendt je dat straks uit?\", #\n",
    "    \"Zendt jij echt die fiets via de post?\",\n",
    "    \"Welke baas zend je nu helemaal naar London voor 1 klant?\",\n",
    "\n",
    "    # Trying other words\n",
    "    # Correct spelling\n",
    "    \"Ik vind dit toch niet zo mooi.\",\n",
    "    \"Wat vind jij van al die aandacht?\",\n",
    "    \"Hoe vind ik nu de ingang?\",\n",
    "    \"Het is toch erg dat hij dat niet vindt.\",\n",
    "    \"Hoe zwaar vindt hij de opleiding?\",\n",
    "\n",
    "    \"Ik loop er zo maar voorbij.\",\n",
    "    \"Loop jij ook zo snel?\",\n",
    "    \"Je loopt daar beter niet telkens over.\",\n",
    "    \"Jij loopt echt helemaal naar zee?\",\n",
    "    \"En daarom loopt hij er met een grote bocht omheen.\",\n",
    "\n",
    "    # With spelling mistake\n",
    "    \"Ik vindt dit toch niet zo mooi.\",\n",
    "    \"Wat vindt jij van al die aandacht?\",\n",
    "    \"Hoe vindt ik nu de ingang?\",\n",
    "    \"Het is toch erg dat hij dat niet vind.\", # Incorrectly evaluated to \"0\"\n",
    "    \"Hoe zwaar vind hij de opleiding?\",\n",
    "\n",
    "    \"Ik loopt er zo maar voorbij.\",\n",
    "    \"Loopt jij ook zo snel?\",\n",
    "    \"Je loop daar beter niet telkens over.\",\n",
    "    \"Jij loop echt helemaal naar zee?\",\n",
    "    \"En daarom loop hij er met een grote bocht omheen.\"\n",
    "])\n",
    "print()\n",
    "print(predictions)\n",
    "print(raw_outputs)\n",
    "\n",
    "# Expected           [0 0 0 0 0 0 0 0 0 0 0 0 1 1 1 1 1 1 1 1 1 1 1 1 0 0 0 0 0 0 0 0 0 0 1 1 1 1 1 1 1 1 1 1]\n",
    "# Actual RoBERTa-001 [0 0 0 0 0 0 0 0 0 0 0 0 1 1 1 1 1 1 1 1 1 1 1 1 0 0 0 0 0 0 0 0 0 0 1 1 1 0 1 1 1 1 1 1]\n",
    "# Actual RoBERTa-002 [0 0 0 0 0 0 0 0 0 0 0 0 1 1 1 1 1 1 1 1 1 1 1 1 0 0 0 0 0 0 0 0 0 0 1 1 1 0 1 1 0 1 1 1]\n",
    "# Actual    BERT-001 [0 0 0 0 0 0 0 0 0 0 0 0 1 1 1 1 1 1 1 1 1 1 1 1 0 0 0 0 0 0 0 0 0 0 1 1 1 0 0 1 1 0 1 0]\n",
    "\n"
   ]
  },
  {
   "cell_type": "code",
   "execution_count": null,
   "metadata": {},
   "outputs": [],
   "source": []
  }
 ],
 "metadata": {
  "language_info": {
   "codemirror_mode": {
    "name": "ipython",
    "version": 3
   },
   "file_extension": ".py",
   "mimetype": "text/x-python",
   "name": "python",
   "nbconvert_exporter": "python",
   "pygments_lexer": "ipython3",
   "version": "3.8.2-final"
  },
  "orig_nbformat": 2,
  "kernelspec": {
   "name": "python38264bita71a60f45b8e4338b01992b37d5c2d2a",
   "display_name": "Python 3.8.2 64-bit"
  }
 },
 "nbformat": 4,
 "nbformat_minor": 2
}