{
 "cells": [
  {
   "cell_type": "code",
   "execution_count": 1,
   "metadata": {},
   "outputs": [
    {
     "output_type": "stream",
     "name": "stdout",
     "text": "test\n"
    }
   ],
   "source": [
    "print(\"test\")"
   ]
  },
  {
   "cell_type": "code",
   "execution_count": 2,
   "metadata": {
    "tags": [
     "outputPrepend"
    ]
   },
   "outputs": [
    {
     "output_type": "stream",
     "name": "stdout",
     "text": "Daar word ik hartstikke gek van.\nIk hoop dat dit dus niet bij jou gedaan word.\nZo verving von Baader Descartes' cogito ergo sum door cogitor ergo sum: ik word gedacht, dus ik ben.\nIk ga door tot Parijs en zal winnen, tenzij ik vermoord word.\nHij zou op de dag van de verkiezing tegen zijn moeder gezegd hebben Of ik keer terug als pontiflex, of ik word voor altijd verbannen.\nRond het thema van de Vlaamse onafhankelijkheid schreef hij ‘Operatie Vlaamse Onafhankelijkheid‘, een verslag van de evaluatiedag ‘Volk, word staat’ dat op 24 november 2007 plaatsvond in het Federale Parlement.\nAls je goed leeft, kun je na de dood in een hogere kaste terecht komen en uiteindelijk word je bevrijd van het aardse leven om samen te leven met god.\nVertaling: Ik word beschermd of hij beschermt mij.\nAls je van deze appels eet, word je onsterfelijk.\nIn 2008 begon BNN met een grootse campagne onder het motto 'Koop dit, word lid'.\nNu pas word ik me ervan bewust dat mijn werk in zwart, wit en kleine kleurvlakken alleen maar 'tekenen' in olieverf is geweest.\nWel liet hij ooit in een interview optekenen: Oud met een d word ik niet waarschijnlijk, gezien de grote hoeveelheid koffie en sigaretten die ik consumeer, en de geringe hoeveelheid slaap die ik geniet.\nIn 2008 verscheen het eerste luisterboek van doctorandus P, waarop hij zelf drie eigen verhalen voorleest: Sven de Bevrijder, Ik word vermoord en Tiens, Tiens, afgewisseld met een aantal ollekebollekes.\nJuridisch word je bij een koop dus nog geen eigenaar!\nZuiderspel word georganiseerd in Hotel and Congrescentrum Koningshof te Veldhoven.\nNescio's bevlogen proza wordt in de tweede alinea komisch-ruw onderbroken door Bavink: Toen zei Bavink: 'Ik word een beroemd man,' zooals een ander zou zeggen: 'Ze hebben me een dubbeltje te veel afgezet,' en we voelden ons bekocht, alle drie, Bavink, Bekker en ik.\nIn het West-Vlaams zegt men dus niet ik word ziek, maar men zegt ik kom ziek.\nVroeg of laat word ik natuurlijk vergeten, zei Havel bij die gelegenheid, maar gelukkig is er nog altijd die foto waarop ik met Arnold Schwarzenegger sta.\nWant 'stel je je kwetsbaar op, dan word je gekwetst', aldus Cruijff.\nMet hem zong ze het duetDon't say a word.\nDaar word je met al je idealen natuurlijk ontzettend agressief van, maar er is nu eenmaal geen vooropleiding voor wethouder.\nNa de uitspraak \"Ik word daar zo moe van\" valt hij meestal direct in slaap.\nDachau heeft een blijvend stempel op hem gedrukt: Banger word ik voor mijn eigen wezen, Dachau schoof een raster voor mijn ziel en wie daarin opgenomen is geweest, zal de dood tot zijn dood met zich meedragen.\nOp zijn sterfbed sprak hij de woorden uit: Aan mijn geleerdheid heb ik nu niets meer; mijn dogmatiek baat mij ook nu niet meer; alleen door het geloof word ik zalig.\nRömer vond dat mensen daar behandeld worden als gebruiksvoorwerpen: Eerst word je in de watten gelegd en later laten ze je net zo hard weer vallen.\nIk word nog meer gehaat dan voorheen, omdat ik nu goed bij kas ben.\nOnderdelen van de set zoals de kippen en bloemen werden meegegeven aan het publiek en verloot onder mensen die lid waren geworden van BNN tijdens de “Koop dit, word lid”-actie.\nIk word misschien nog eens medeplichtig gehouden, als Mitja zich aan uw vader mocht vergrijpen.\nOm de nieuwe SIMD-instructies te kunnen implementeren heeft Intel 4 nieuwe datatypen ingevoerd, de packed versies van de byte, word, doubleword en quadword.\nNatuurlijk ben je lid van een familie door geboorte en word je op een bepaalde leeftijd ingewijd, door middel van rituelen en een eed voor het leven, maar je kunt ook bij een familie komen als je door de familie wordt geaccepteerd en ritueel wordt omgedoopt.\nHoud er ook rekening mee dat de spellingcontrole wel werkwoordsvormen die echt fout zijn markeert, zoals heeft gebruikd, maar niet de werkwoordsvormen waarin wel goede woorden staan maar die grammaticaal niet correct zijn: het word.\nIn hardware is dit beter op te lossen met de juiste configuratie: hardware is niet gebonden aan hele word-bewerkingen.\nRijndael werkt daarentegen met 32 bit-words zodat een processor die opereert op 32 bit-words simpelweg een word kan lezen en op de juiste plaats wegschrijven.\nIn februari 2003 bracht Blue samen met Elton John diens oude hit Sorry seems to be the hardest word uit 1976 uit.\nAls ik boos word, ben ik net zo ridicuul als hij.\nTot slot de grijsaard? Als ik er een word, is er nog tijd genoeg om daarover te spreken.\nIn 2008 heeft hij samen met Pater Moeskroen een liedje gemaakt, getiteld: Het zit er niet in dat ik oud word.\nIn \"Hoe word ik succesvoller dan mijn collega's?\" proberen ze antwoord te geven op de vraag welke factoren van invloed zijn op een succesvolle loopbaan.\nBekend is zijn stelling dat als ik bedrogen word, dan besta ik waarmee hij de beroemde stelling van René Descartes, cogito ergo sum, 1200 jaar voor was.\nWord maakte een muzikale mix van hiphop en funk waarvoor Piet teksten schreef en rapte.\nWord was betrekkelijk succesvol en ondersteunde bands zoals Consolidated, Augurk Players, The Goats en Soul Coughing.\nZijn grafschrift moest volgens hem luiden: Eindelijk word ik niet meer dommer.\nOok word je dan niet zelf meer aangemoedigd om je eigen fantasie te gebruiken.\nDe beelden met uitspraken als ‘at your service’, en ‘ik word minister-president’, maar ook het televisiedebat met Jeroen Pauw.\nDaar gold, zeker voor de Franse Revolutie: als je voor een dubbeltje geboren bent, word je nooit een kwartje.\nIk word altijd gevraagd voor films - misschien zien ze me op het podium, dat ik zo emotioneel word steeds.\nHier kwam verandering aan toen ze in 2011 de rol van de rode priesteres Melisandre kreeg aangeboden in het tweede seizoen van de HBO-televisieserie Game of Thrones: Door mijn rol in zo'n goede serie word ik iets serieuzer genomen.\nSamen schreven zij de boeken \"Waarom zit ik niet in oranje?\" en \"Hoe word ik succesvoller dan mijn collega's?\".\nHierdoor vang je meer wind en word je verder gedragen.\nDaarom word ik Hermes Trismegistus genoemd, omdat ik de drie delen van de filosofie van de gehele wereld bezit.\nDaarom word je verzocht het artikel buiten de Wikipedia naamruimte neer te zetten, waar de normale artikelen staan.\nStaande op de grond of zittend op een stoel word je door de zwaartekracht van de aarde aangetrokken.\nVoor een ambt word je dus uitgekozen of geroepen en vervolgens binnen het protestantisme aangesteld of in meer hiërarchische kerken gewijd.\nIn de meeste groepen word je pas leiding op je achttiende.\nTevens zongen zij voor deze serie de titelsong, hun sinterklaashit \"Ik word later zwarte piet\".\nIk heb de indruk dat daar op commons strenger tegen opgetreden word.\nIn de experimentele popmuziek gebruikt men vaak de term spoken word, waarbij gedichten of verhalen voorgelezen worden op muziek.\nIn het tweede geval word je verzocht een bronvermelding aan te geven, in het derde geval is dat verplicht.\nSommige melodieën zorgen ervoor dat link geteleporteerd word.\nEen rijke Romein, Vettius Agorius Praetextatus, grapte tegen hem: Maak me bisschop van Rome en ik word christen, als reactie op zijn gedrag.\nAan alle kanten word je daarvoor door cameramensen belaagd.\nZe gaven daarnaast onder meer een eigen Vrekkenkrant uit en boeken met titels als \"Lekker zuinig\" en \"Hoe word ik een echte vrek?\" over een sobere levenswijze.\nWord je aangevallen, kun je de alarmbel luiden zodat alle dorpelingen zich verschuilen in het stadhuis, kasteel of toren; zo zijn ze niet alleen beschermd, maar kunnen ze ook pijlen schieten op de vijand.\nRuim drie weken word ik buitengesloten van een project waaraan ik veel werk heb verricht.\nEr duiken grappenmakerop die een naam hanteren die op die van mij lijkt en waarvan men voetstoots aanneemt dat ik het ben en ik word voor nog langere tijd geblokkeerd.\nDat lijkt me heel goed gezien, en ik zal daaraan verbinden dat ik geen stemcoördinator oid word.\nMarkovic schreef enkele dagen voor zijn dood aan zijn broer Aleksandar: Als ik word vermoord, dan is dat 100% zeker de fout van Alain Delon en van zijn peetvader François Marcantoni.\nDe Engelse uitspraak van het woord lijkt sterk op de uitspraak van abbey word.\nHe just moved his arm a little; he never spoke a word.\nIn februari 2010 baarde Expreszo opzien met de spijbelprotestactie Daar word ik nou ziek van die gericht was tegen de zogenaamde 'enkele-feitconstructie'.\nIn Marine Mania word je ondergedompeld in de onderwaterwereld.\nIn 1992 gaf de Stichting Popmuseum ook de brochure \"Hoe word je popmuzikant\" uit, met tips voor beginnende popmuzikanten.\nNou Muijz dan word je bedankt: het werk van maanden sappelen gooi jij met één muisklik weg! jij kunt met je 'punten' en je 'namen' en je 'links' wat mij betreft op dak gaan zitten.\nVoor dat laatste werk kreeg hij kritiek van sommige Vlaams-nationalisten, kritiek die hij afwees met de woorden: Ik word door hen zowat beschouwd als een vaandelvluchtige, eenvoudig omdat ik me opsluit binnenshuis en zo hard werk als maar mogelijk is.\nBekende uitspraken van Barend Servet waren: Pollens, Ik word een peu nerveu, Verdomd interessant, maar gaat u verder en Als het ware.\nSinds september 2006 presenteert zij voor Talpa de tv-programma's \"Big Brother 6\" en \"Woef: Hoe word ik een beroemde hond\"?\nOp 27 augustus startte \"Hoe word ik een New Yorkse vrouw?\".\nIn 2009 presenteerde ze de 4-delige serie \"Hoe word ik een Gooische Vrouw?\".\nHet moet me van het hart dat ik de laatste tijd een trend meen waar te nemen waar ik niet blij van word.\nTwee weken na zijn overlijden verschijnt van Groep Fosko het album 'Van iets maken word je blij'.\nDie staan nu veel te ver van elkaar waardoor de boel onoverzichtelijk word.\nMaar blijkbaar word je alleen beloond voor wat je hebt beloofd en niet op wat je hebt gedaan.\nDe auditie kan een selectief karakter hebben: geslaagd of niet, je hebt voldoende talent of niet, of een vergelijkend karakter: je hoort bij de 15 beste kandidaten, dus word je toegelaten, aangezien we er maar 15 toelaten.\nAls je voor een dubbeltje geboren bent, word je nooit een kwartje, lijkt de boodschap aan het eind van de film.\nSimon Carmiggelt noteert in een van zijn cursiefjes: We kunnen geestig zijn in Amsterdam, daar word je weleens beroerd van.\nOok de voortdurend terugkerende vaststelling dat wikipedia voor universitair studenten en wetenschappers nooit een gezaghebbende bron zal zijn, word ik een beetje zat.\nWe maken allemaal weleens fouten nietwaar, maar om daar dan vervolgens in te volharden Dan word ik opgeofferd aan het ego van degene die een verkeerde beslissing heeft genomen, en dat lijkt me niet terecht.\nIk word gewoon het offer dat gebracht moet worden om jullie te legitimeren een jacobijns schrikbewind te vestigen.\nDeze keer antwoordde Simson: 'Als ik geboeid word met zeven nieuwe touwen, dan ben ik even zwak als ieder ander.' Ook dit was niet waar, hij liet de touwen als draadjes van zijn armen knappen.\nHij was een paar weken daarvoor in een nogal benarde positie gebracht als gast van een radioprogramma van BBC 2, een radiozender, zoals Anderson het omschrijft more aimed at, dare I say, and I hate to say the word: housewives.\nGevraagd om een reactie zei Pierkhan Ik word niet gevraagd om te werken en Als ik geen werkopdracht krijg, wat moet ik dan doen? Verder zei hij dat hij het salaris doneerde aan religieuze organisaties omdat hij het geld niet nodig heeft.\nHet randschrift van de derde klok luidt: Martinus vocor et cives Gennapienses ad ecclesiam S. Martini tempore suo voco, dat vertaald kan worden als: Martinus word ik genoemd en ik roep de Gennepenaren op zijn tijd naar de kerk van Sint-Martinus.\nOp het album staat ook een bijdrage van spoken word-artieste Ursula Rucker, wiens eigen carrière hiermee een boost krijgt.\nVier jaar na de oorlog was er nog nauwelijks brandhout, brood en eipoeder, maar, volgens Steiner, word je door ontberingen alleen maar sterker.\nNa een korte achtbaanrit word je wat afgeremd in een duinhuisje en gaat weer verder naar beneden.\n2500000\n95\n"
    }
   ],
   "source": [
    "import re\n",
    "sample_file_name = \"../../dutch-language/data/sample-sentences-nlwiki.txt\"\n",
    "short_file_name = \"../../dutch-language/data/short-sentences-nlwiki.txt\"\n",
    "full_file_name = \"../../dutch-language/data/clean-sentences-nlwiki.txt\"\n",
    "corrected_file_name = \"../../dutch-language/data/corrected-sentences-nlwiki.txt\"\n",
    "\n",
    "file_name = corrected_file_name\n",
    "\n",
    "regex_worden = re.compile(r'(.+ w|W)ord\\b.*')\n",
    "with open(file_name) as file:\n",
    "    total_count = 0\n",
    "    match_count = 0\n",
    "\n",
    "    for line in file:\n",
    "        if (total_count >= 2500000):\n",
    "            break\n",
    "        total_count += 1\n",
    "        clean_line = line.rstrip()\n",
    "        if (regex_worden.match(clean_line)):\n",
    "            match_count += 1\n",
    "            print(clean_line)\n",
    "\n",
    "    print(total_count)\n",
    "    print(match_count)"
   ]
  },
  {
   "cell_type": "code",
   "execution_count": 11,
   "metadata": {},
   "outputs": [
    {
     "output_type": "stream",
     "name": "stdout",
     "text": "<class 'simpletransformers.classification.classification_model.ClassificationModel'>\n"
    }
   ],
   "source": [
    "from simpletransformers.classification import ClassificationModel\n",
    "import pandas as pd\n",
    "import logging\n",
    "\n",
    "logging.basicConfig(level=logging.INFO)\n",
    "transformers_logger = logging.getLogger(\"transformers\")\n",
    "transformers_logger.setLevel(logging.WARNING)\n",
    "\n",
    "model = ClassificationModel(\n",
    "    \"bert\", \"outputs/\", use_cuda=True\n",
    ")\n",
    "print(type(model))\n"
   ]
  },
  {
   "cell_type": "code",
   "execution_count": 20,
   "metadata": {},
   "outputs": [
    {
     "output_type": "stream",
     "name": "stderr",
     "text": "INFO:simpletransformers.classification.classification_model: Converting to features started. Cache is not used.\n100%|██████████| 8/8 [00:00<00:00, 364.81it/s]\n100%|██████████| 1/1 [00:00<00:00,  3.50it/s]\n[0 0 0 0 1 1 1 1]\n[[ 5.028973  -4.6238155]\n [ 5.015533  -4.553905 ]\n [ 5.001874  -4.5051813]\n [ 4.8724637 -4.4218674]\n [-5.3947897  4.4733806]\n [-5.344915   4.23907  ]\n [-5.315748   4.102456 ]\n [-5.1123905  3.8351293]]\n\n"
    }
   ],
   "source": [
    "predictions, raw_outputs = model.predict([\n",
    "    \"Ik word nieuwsgierig.\",\n",
    "    \"Hoe word je gevraagd?\",\n",
    "    \"Wat wordt je gevraagd?\",\n",
    "    \"Wat word je opdringerig, zeg!\",\n",
    "\n",
    "    # With spelling mistake\n",
    "    \"Ik wordt nieuwsgierig.\",\n",
    "    \"Hoe wordt je gevraagd?\",\n",
    "    \"Wat word je gevraagd?\",\n",
    "    \"Wat wordt je opdringerig, zeg!\",\n",
    "])\n",
    "print()\n",
    "print(predictions)\n",
    "print(raw_outputs)"
   ]
  },
  {
   "cell_type": "code",
   "execution_count": null,
   "metadata": {},
   "outputs": [],
   "source": []
  }
 ],
 "metadata": {
  "language_info": {
   "codemirror_mode": {
    "name": "ipython",
    "version": 3
   },
   "file_extension": ".py",
   "mimetype": "text/x-python",
   "name": "python",
   "nbconvert_exporter": "python",
   "pygments_lexer": "ipython3",
   "version": "3.8.2-final"
  },
  "orig_nbformat": 2,
  "kernelspec": {
   "name": "python38264bita71a60f45b8e4338b01992b37d5c2d2a",
   "display_name": "Python 3.8.2 64-bit"
  }
 },
 "nbformat": 4,
 "nbformat_minor": 2
}