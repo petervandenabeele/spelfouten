{
 "cells": [
  {
   "cell_type": "code",
   "execution_count": 1,
   "metadata": {},
   "outputs": [
    {
     "output_type": "stream",
     "name": "stdout",
     "text": "test\n"
    }
   ],
   "source": [
    "print(\"test\")"
   ]
  },
  {
   "cell_type": "code",
   "execution_count": 42,
   "metadata": {
    "tags": [
     "outputPrepend"
    ]
   },
   "outputs": [
    {
     "output_type": "stream",
     "name": "stdout",
     "text": "BBC Radio 1 richt zich vooral op de doelgroep 15 tot 29 jaar, en zend vooral pop, elektronische, alternatieve en rock muziek uit.\nEen antenne-array is een samenstel van een aantal zend- of ontvangstantennes, om voor een bepaalde frequentie een optimale energieoverdracht in een of meer richtingen te bewerkstelligen.\nMomenteel zend Boomerang de tekenfilm uit, geheel opnieuw ingesproken, maar met dezelfde stemacteurs.\nIn het midden- en noorden van Schotland zend STV uit, in Noord-Ierland zendt UTV uit.\nDit onderdeel zend een schokgolf uit waarmee je zwakke muren kan openbreken.\nIn 1917 stonden er al tijdelijke zend- en ontvangststations voor draadloze telegrafie op de lange golf op de hoogvlakte Malabar nabij Bandoeng op het Nederlands-Indische eiland Java, voor contact met het moederland.\nDeze zender zend uit in het Engels en is gericht op de islam.\nDe PAPI-verlichting kan, samen met de overige baanverlichting, op sommige vliegvelden geactiveerd worden door de piloot van het naderende vliegtuig door het indrukken van de zend- of PTT-toets van de VHF-radio.\nHet kanaal zend dagelijks uit vanuit zijn studio's op Stamford Bridge.\nNamelijk door zowel aan de zend- als aan de ontvangstzijde kathodestraalbuizen te gebruiken.\nIn de beginjaren van de radio moest de afstand tussen de lokale zend- en ontvangststations aanzienlijk zijn: de uiterst gevoelige ontvanger moest zo min mogelijk gestoord worden door de zeer sterke eigen zender.\nIn de daarop volgende jaren breidde hij zijn draadloze netwerk uit door wereldwijd diverse zend- en ontvangststations te bouwen.\nBinnen H.245 zijn aparte zend- en ontvangstfunctionaliteiten gedefinieerd, en methoden om informatie hierover te transporteren naar andere apparaten binnen een netwerk, mits deze H.323 ondersteunen.\nTijdens een vuurgevecht met de Duitsers waren ze hun uitrusting, wapens en radio zend ontvanger kwijt geraakt.\nVia de bemiddeling van Buunk werden de leden van het detachement door het BI van een nieuwe uitrusting, wapens en een radio zend ontvanger voorzien.\nMedewerkers van de Radiodienst die werkzaam waren op de Nederlandsche Seintoestellen Fabriek in Hilversum zagen kans daar materiaal voor dertig radio zend ontvangers achterover te drukken.\nVanaf het moment dat Eskes de leiding van de Radiodienst op zich had genomen gaf hij opdracht om overtollige radio zend ontvangers vanuit het bevrijde zuiden en vanuit het westen van het land over te laten brengen naar het oosten van het land.\nMet hulp van de agent Martinus Adolph Cornelis Sutherland die op 5 augustus 1944 in de buurt van Groot-Ammers was geparachuteerd kreeg Smid een zendplan, kristallen en een voor hem vreemde radio zend ontvanger.\nDe zend ontvanger was afkomstig van het BBO.\nWanneer Big Brother wordt uitgezonden op Channel 4, zend E4 veel extra programma's uit rond de serie.\nDe koerierzorgde voor de afvoer van de zend ontvanger.\nEen repeater is een zend-ontvanginstallatie die een signaal ontvangt en op een andere frequentie, signaalniveau en/of hoger vermogen realtime weer uitzendt.\nDe container met daarin de zend ontvangers en het zendplan vielen in handen van de Duitsers.\nHij zette zijn radio zend ontvanger in om voor binnenlands gebruik een verbinding tot stand te brengen tussen het hoofdkwartier van de OD in Breda en het BI in Eindhoven.\nZe vonden het pistool, de radio zend ontvanger en de parachute.\nDe radio zend ontvanger werd in het orgel verborgen.\nHij leidde de rechercheurs rechtstreeks naar de plaats waar de radio zend ontvanger was opgeborgen.\nDe rechercheurs van de SD liepen rechtstreeks naar de plaats waar de radio zend ontvanger was opgeborgen.\nVan Rijsewijk had zeven radio zend ontvangers uit Londen meegekregen.\nHet was een radio zend ontvanger van het type; Kofferset 3 MK II.\nIn de praktijk kwam het erop neer dat zijn radiotelegrafist zijn werk niet kon doen want hier in het roggeveld lagen zijn radio zend ontvanger, het zendplan en de kristallen.\nTwee radio zend ontvangers waren bestemd voor F. van Lokven en P. van Ingen.\nTijdens een vuurgevecht met de Duitsers waren ze hun uitrusting, wapens en radio zend ontvanger kwijt geraakt.\nVia de bemiddeling van Buunk werden de leden van het detachement door het BI van een nieuwe uitrusting, wapens en een radio zend ontvanger voorzien.\nOp 10 februari 1945 troffen de leden van de SD bij een landbouwer in Daarlerveen de andere zend ontvanger van de Zendgroep Oost aan.\nDe Church of Scotland besluit hen te gaan sponsoren en zend het echtpaar naar Chamba, een leprakolonie aan de voet van de Himalaya.\nDe dieven schrikken en rennen weg en Salam pakt het geld en zend een gedeelte naar zijn meester.\nMarinus Vader ontving inmiddels een zend-ontvanger via route Zwaantje.\nHet kreeg van de koninklijke Marine een zend- en ontvangstinstallatie mee, samen met een korporaal telegrafist.\nHelaas zend geen 1 kanaal constant uit 70% van de tijd andere zaken.\nZij kregen aldaar een Jeepster wagoneer met een zend-ontvanginstellatie.\nDe zender zend 24 uur per dag programma's uit.\nDaar dergelijke telefoons over slechts één zend-ontvanginrichting beschikten, was er geen sprake van een echt gelijktijdig gebruik van beide simkaarten.\nToestellen die vervolgens werkelijk als Dual SIM-toestel werden ontworpen, beschikten over twee zend/ontvang-inrichtingen.\nAanschouw, Heer, de droefheid van Uw volk, en zend ons degene, die U zenden wil.\nEr zijn ook systemen, waarbij gebruik wordt gemaakt van het televisiekabel systeem of die geheel zelfstandig werken met een eigen zend- en ontvangstsysteem.\nWanneer in februari 1799 nog geen antwoord uit Nederland is gekomen, zend men een tweede verzoek, vergezeld van een bedrag van f 1100,--.\nSindsdien zend het radiostation 24 uur per dag, zeven dagen in de week uit.\nKorte tijd daarna zend de hertog een korte brief waarin hij stelt dat Bredevoort bij de graafschap Zutphen hoort en aan de voorouders van Arnold in pand is gegeven.\nAanbieders van dit soort diensten kunnen bij Cellnex ruimte aan de mast huren voor het plaatsen van antennes en/of ruimte in de toren of mast voor het plaatsen van de benodigde zend- en ontvangstapparatuur.\nMarinus Vader ontving een zend-ontvanger via route Zwaantje.\nToen Louis d'Aulnis in Nederland was gedropt en op 5 juli 1943 contact kreeg met Packard, gaf hij hun de double-transition-code en zend-instructies.\nMidland FM is de eerste en oudste streekomroep van Nederland en zend uit in de gemeenten Renswoude, Scherpenzeel, Veenendaal, Woudenberg.\nZoals de meeste planetaire nevels zend de halternevel zijn zichtbare licht voornamelijk in een enkele spectraallijn uit, 500,7 nm.\nEr kwam een zend- en ontvangststation van de Kriegsmarine voor de duikbotenoorlog.\nDaarnaast zou hij voor allen de zend- en ontvangstapparatuur, de verrekijkers, de codekaarten, hun bewapening en hun privéspullen beheren.\n10000000\n125\n"
    }
   ],
   "source": [
    "import re\n",
    "sample_file_name = \"../dutch-language/data/sample-sentences-nlwiki.txt\"\n",
    "short_file_name = \"../dutch-language/data/short-sentences-nlwiki.txt\"\n",
    "full_file_name = \"../dutch-language/data/clean-sentences-nlwiki.txt\"\n",
    "corrected_file_name = \"../dutch-language/data/corrected-sentences-nlwiki.txt\"\n",
    "\n",
    "file_name = corrected_file_name\n",
    "\n",
    "regex_worden = re.compile(r'(.+ z|Z)end\\b.*')\n",
    "with open(file_name) as file:\n",
    "    total_count = 0\n",
    "    match_count = 0\n",
    "\n",
    "    for line in file:\n",
    "        if (total_count >= 10000000):\n",
    "            break\n",
    "        total_count += 1\n",
    "        clean_line = line.rstrip()\n",
    "        if (regex_worden.match(clean_line)):\n",
    "            match_count += 1\n",
    "            if (total_count > 5000000):\n",
    "                print(clean_line)\n",
    "\n",
    "    print(total_count)\n",
    "    print(match_count)"
   ]
  },
  {
   "cell_type": "code",
   "execution_count": 11,
   "metadata": {},
   "outputs": [
    {
     "output_type": "stream",
     "name": "stdout",
     "text": "<class 'simpletransformers.classification.classification_model.ClassificationModel'>\n"
    }
   ],
   "source": [
    "from simpletransformers.classification import ClassificationModel\n",
    "import pandas as pd\n",
    "import logging\n",
    "\n",
    "logging.basicConfig(level=logging.INFO)\n",
    "transformers_logger = logging.getLogger(\"transformers\")\n",
    "transformers_logger.setLevel(logging.WARNING)\n",
    "\n",
    "model = ClassificationModel(\n",
    "    \"bert\", \"outputs/\", use_cuda=True\n",
    ")\n",
    "print(type(model))\n"
   ]
  },
  {
   "cell_type": "code",
   "execution_count": 23,
   "metadata": {},
   "outputs": [
    {
     "output_type": "stream",
     "name": "stderr",
     "text": "INFO:simpletransformers.classification.classification_model: Converting to features started. Cache is not used.\n100%|██████████| 24/24 [00:00<00:00, 1110.85it/s]\n100%|██████████| 3/3 [00:00<00:00,  4.09it/s]\n[0 0 0 0 0 0 0 1 0 1 0 0 1 1 1 1 0 0 1 0 0 1 0 0]\n[[ 5.028973   -4.6238155 ]\n [ 5.015533   -4.553905  ]\n [ 5.001874   -4.5051813 ]\n [ 4.8724637  -4.4218674 ]\n [ 1.6203022  -1.5378906 ]\n [ 0.12602812 -0.5217313 ]\n [ 0.61012554 -1.0169847 ]\n [-2.5860054   2.0353255 ]\n [ 0.16640593 -0.02767875]\n [-1.3042836   0.9139959 ]\n [ 3.6788774  -3.0821662 ]\n [ 1.0925493  -0.8713497 ]\n [-5.3947897   4.4733806 ]\n [-5.344915    4.23907   ]\n [-5.315748    4.102456  ]\n [-5.1123905   3.8351293 ]\n [ 0.61081254 -0.63338786]\n [ 0.76848555 -0.9399009 ]\n [-0.82137966  0.20406562]\n [ 0.6587549  -0.63729113]\n [ 0.17024972 -0.11657579]\n [-4.6694126   3.7321732 ]\n [ 2.6194382  -2.2857945 ]\n [ 0.5402404  -0.7211295 ]]\n\n"
    }
   ],
   "source": [
    "predictions, raw_outputs = model.predict([\n",
    "    \"Ik word nieuwsgierig.\",\n",
    "    \"Hoe word je gevraagd?\",\n",
    "    \"Wat wordt je gevraagd?\",\n",
    "    \"Wat word je opdringerig, zeg!\",\n",
    "\n",
    "    \"Ik zend een pakje.\",\n",
    "    \"Ik zend je een pakje.\",\n",
    "    \"Ik zend u een heel mooie trui.\",\n",
    "    \"Je zendt het toch nog vandaag op, hoop ik.\", #\n",
    "    \"Jij zendt een hele grote doos naar oma.\",\n",
    "    \"Zend je dat straks uit?\", #\n",
    "    \"Zend jij echt die fiets via de post?\",\n",
    "    \"Welke baas zendt je nu helemaal naar London voor 1 klant?\",\n",
    "\n",
    "    # With spelling mistake\n",
    "    \"Ik wordt nieuwsgierig.\",\n",
    "    \"Hoe wordt je gevraagd?\",\n",
    "    \"Wat word je gevraagd?\",\n",
    "    \"Wat wordt je opdringerig, zeg!\",\n",
    "\n",
    "    \"Ik zendt een pakje.\",\n",
    "    \"Ik zendt je een pakje.\",\n",
    "    \"Ik zendt u een heel mooie trui.\", #\n",
    "    \"Je zend het toch nog vandaag op, hoop ik.\",\n",
    "    \"Jij zend een hele grote doos naar oma.\",\n",
    "    \"Zendt je dat straks uit?\", #\n",
    "    \"Zendt jij echt die fiets via de post?\",\n",
    "    \"Welke baas zend je nu helemaal naar London voor 1 klant?\",\n",
    "])\n",
    "print()\n",
    "print(predictions)\n",
    "print(raw_outputs)\n",
    "\n",
    "# Results are (still) perfect for \"worden\"\n",
    "# Results are invalid (random) for \"zenden\"\n",
    "# => no transfer learning from \"worden\" to \"zenden\" ?\n",
    "#\n",
    "# [0 0 0 0 0 0 0 1 0 1 0 0 1 1 1 1 0 0 1 0 0 1 0 0]\n",
    "# [[ 5.028973   -4.6238155 ]\n",
    "#  [ 5.015533   -4.553905  ]\n",
    "#  [ 5.001874   -4.5051813 ]\n",
    "#  [ 4.8724637  -4.4218674 ]\n",
    "\n",
    "#  [ 1.6203022  -1.5378906 ]\n",
    "#  [ 0.12602812 -0.5217313 ]\n",
    "#  [ 0.61012554 -1.0169847 ]\n",
    "#  [-2.5860054   2.0353255 ]\n",
    "#  [ 0.16640593 -0.02767875]\n",
    "#  [-1.3042836   0.9139959 ]\n",
    "#  [ 3.6788774  -3.0821662 ]\n",
    "#  [ 1.0925493  -0.8713497 ]\n",
    "\n",
    "#  [-5.3947897   4.4733806 ]\n",
    "#  [-5.344915    4.23907   ]\n",
    "#  [-5.315748    4.102456  ]\n",
    "#  [-5.1123905   3.8351293 ]\n",
    "\n",
    "#  [ 0.61081254 -0.63338786]\n",
    "#  [ 0.76848555 -0.9399009 ]\n",
    "#  [-0.82137966  0.20406562]\n",
    "#  [ 0.6587549  -0.63729113]\n",
    "#  [ 0.17024972 -0.11657579]\n",
    "#  [-4.6694126   3.7321732 ]\n",
    "#  [ 2.6194382  -2.2857945 ]\n",
    "#  [ 0.5402404  -0.7211295 ]]"
   ]
  },
  {
   "cell_type": "code",
   "execution_count": null,
   "metadata": {},
   "outputs": [],
   "source": []
  }
 ],
 "metadata": {
  "language_info": {
   "codemirror_mode": {
    "name": "ipython",
    "version": 3
   },
   "file_extension": ".py",
   "mimetype": "text/x-python",
   "name": "python",
   "nbconvert_exporter": "python",
   "pygments_lexer": "ipython3",
   "version": "3.8.2-final"
  },
  "orig_nbformat": 2,
  "kernelspec": {
   "name": "python38264bita71a60f45b8e4338b01992b37d5c2d2a",
   "display_name": "Python 3.8.2 64-bit"
  }
 },
 "nbformat": 4,
 "nbformat_minor": 2
}