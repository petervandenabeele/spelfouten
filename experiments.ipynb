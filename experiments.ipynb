{
 "cells": [
  {
   "cell_type": "code",
   "execution_count": 1,
   "metadata": {},
   "outputs": [
    {
     "output_type": "stream",
     "name": "stdout",
     "text": "test\n"
    }
   ],
   "source": [
    "print(\"test\")"
   ]
  },
  {
   "cell_type": "code",
   "execution_count": 1,
   "metadata": {
    "tags": [
     "outputPrepend"
    ]
   },
   "outputs": [
    {
     "output_type": "stream",
     "name": "stdout",
     "text": "['Andre Kirk Agassi is een voormalig tennisser uit de Verenigde Staten.', 'Zijn vader is afkomstig uit Iran en van Armeense en Assyrische afkomst.', 'In 1999 werd Agassi de vijfde speler in de geschiedenis van de sport die een Career Slam won: alle vier de grandslamtoernooien : de Australian Open, de Open Franse Tenniskampioenschappen, Wimbledon en de US Open.', 'In totaal won hij acht grandslamtoernooien en hij staat hiermee op de lijst van grandslamtitels op een gedeelde negende plaats.', 'Agassi is de enige speler ooit die alle grandslamtoernooien én de Tennis Masters Cup heeft gewonnen, deel uitmaakte van een winnend Davis Cup-team en een olympische gouden medaille heeft gewonnen.', 'Daarnaast won hij zeventien Tennis Masters Series-titels.', 'Hoewel hij daarmee recordhouder was toen hij op de US Open 2006 afscheid nam als speler, hebben meerdere spelers dat aantal sindsdien overtroffen.', 'Hij is op 22 oktober 2001 getrouwd met de voormalige Duitse toptennisspeelster Steffi Graf – ze hebben twee kinderen.', 'Agassi leerde tennis van zijn vader, Mike Agassi, een bokser die ooit op de Olympische Spelen voor Iran uitkwam.', 'Zoon Andre genoot zijn verdere opleiding op de tennisschool van Nick Bollettieri.']\n['Aan het begin van zijn carrière viel hij vooral op door zijn voor die tijd kleurrijke kledingkeuze en lange haardos.', \"Het leverde hem de bijnaam 'The Las Vegas Kid' op.\", 'Alleen op Wimbledon paste hij zijn kledingkeuze aan omdat de organisatie dat van de spelers vereist.', \"In 1992 won hij zijn eerste grandslamtoernooi op het 'heilige gras' van Wimbledon door in de finale de Kroaat Goran Ivanišević te verslaan.\", 'Twee jaar later won hij zijn tweede grandslamtitel op de US Open en het jaar daarop won hij ook de Australian Open.', 'Dat toernooi zou hij in totaal vier keer winnen en daarmee alleen recordhouder worden: hij was in Australië de beste in 1995, 2000, 2001 en 2003.', 'De US Open won hij twee maal: in 1994 en 1999, het jaar waarin hij geschiedenis schreef.', 'Hij werd de tweede man in het open tijdperk en de vijfde aller tijden die alle vier grandslamtoernooien op zijn naam wist te schrijven.', 'Hij won Roland Garros door in een beklijvende finale de Oekraïner Andrej Medvedev in vijf sets te kloppen, het werd 1-6, 2-6, 6-4, 6-3 en 6-4.', 'Op 3 september 2006 speelde hij zijn laatste wedstrijd.']\n['Hij verloor in de derde ronde van de US Open 2006 van Benjamin Becker.', 'Het publiek gaf hem na afloop een staande ovatie.', 'Om het nieuwe uitschuifbare dak op 17 mei 2009 in te huldigen speelde hij nog één keer op Wimbledon in een exhibitiewedstrijd aan de zijde van zijn vrouw Steffi Graf in een dubbelspel tegen de Brit Tim Henman en de Belgische Kim Clijsters.', 'De overwinning ging naar Henman en Clijsters.', 'Op 28 oktober 2009 werd bekend dat Agassi tijdens zijn loopbaan de drug Chrystal Meth heeft gebruikt.', 'Tevens maakte hij bekend dat zijn woeste haardos een toupet was.', 'Die bekentenissen deed de Amerikaan in zijn in november 2009 uitgegeven autobiografie.', 'In 1997 werd hij ook daadwerkelijk positief bevonden, maar toen wist hij de ATP ervan te overtuigen dat hij het niet opzettelijk had gebruikt.', 'Tijdens het ATP-toernooi van Newport werd Andre Agassi op 9 juli 2011 opgenomen in de prestigieuze internationale Tennis Hall of Fame.', 'Groen is een Vlaamse, progressieve en groene politieke partij, die 10.000 leden telt.']\n['Pacifisme, sociale rechtvaardigheid en ecologie zijn drie pijlers van het Groen-programma.', \"De partij noemt 'de kwaliteit van leven' de 'groene draad door haar programma'.\", 'Groen is een zusterpartij van het Frans- en Duitstalige Ecolo.', \"Van 1979 tot 15 november 2003 heette de partij 'Agalev'.\", \"Daarna werd de naam 'Groen!'.\", 'Begin 2012 werd het uitroepteken weggelaten.', 'De huidige voorzitter is Meyrem Almaci.', 'In 2017 had de partij 9.484 leden en is daarmee de kleinste in het parlement vertegenwoordigde Vlaamse partij wat het aantal partijleden betreft.', 'Na een korte chaotische periode in de zomer van 2003 neemt Vera Dua het roer over van Dirk Holemans en brengt de rust terug in het groene kamp.', 'De zware klap voor de groenen heeft nog meer gevolgen: honderden nieuwe leden melden zich aan.']\n['Intussen wordt er getimmerd aan een nieuw inhoudelijk project.', 'De sleutelwoorden van deze vernieuwde missie zijn solidariteit, lange termijn en grenzen.', 'Om de vernieuwing volop duidelijk te maken voor de buitenwereld kiest men ook voor een nieuwe naam die meer gelijkenis vertoont met die van de andere Europese groene partijen, kortweg Groen!.', 'Op het congres van november 2003 wordt het partij-jargon nog meer gemoderniseerd: Dua mag zich als eerste groene voorzitter laten noemen in plaats van politiek secretaris.', 'Voor het eerst mogen de groene verkiezingskandidaten ook persoonlijke affiches gebruiken.', 'Ook enkele andere oude principes sneuvelen om efficiënter te kunnen werken.', 'Desalniettemin blijft de uiteindelijke beslissingsmacht bij het ledencongres liggen.', 'Een aantal bekende gezichten stapten vóór de verkiezingen van 2004 over naar het kartel sp.a - Spirit.', 'Groen! kiest voor de verkiezingen van 13 juni voor een gerichte campagne.', 'Met als inzet Vera zoekt… 280.000 mensen worden alle creatieve en weinig kostende middelen ingezet voor een dynamische campagne.']\n['Groen! spreekt haar kiezers rechtstreeks aan met de verkiezingsslogan De bal ligt in uw kamp.', 'Het is een spannende campagne, maar op de avond van de verkiezingen blijkt dat Groen! het gehaald heeft: de partij haalt opnieuw scores die ruim boven de kiesdrempel uitsteken: 7,6% voor het Vlaamse, 9,8% voor het Brusselse en 8% voor het Europees Parlement.', 'In Limburg slaagde de partij er echter niet in om de kiesdrempel te halen.', 'Na de verkiezingen beslist de partij om in de oppositie te gaan.', 'In de periode na de verkiezingen van 2004 keert de rust een beetje weer in de partij.', 'Ondanks het feit dat de financiële en personele gevolgen van de nederlaag van 2003 nog zwaar doorwegen, wordt er gewerkt aan de versterking van de partij met het oog op de volgende jaren.', 'Er wordt sterk geïnvesteerd in inhoud met congressen in 2005 en 2006.', 'Bij de federale verkiezing in 2007 slaagt Groen! er in terug in Kamer en Senaat te komen.', 'In 2007 had Groen! vier zetels in de Kamer van volksvertegenwoordigers, twee in de Senaat, zes in het Vlaams Parlement, één in het Brusselse en één in het Europees Parlement.', 'In het Europees Parlement zetelt ex-Volksunie Europarlementariër Bart Staes voor de Europese Federatie van Groene Partijen/Europese Vrije Alliantie; hij vormt daar met het Nederlandse GroenLinks een transnationale fractie.']\n['Op 10 november 2007 werd tijdens een partijcongres een opvolger gekozen voor partijvoorzitster Vera Dua.', 'Tussen zes kandidaten werd Mieke Vogels in twee stemronden verkozen.', 'Na de Vlaamse verkiezingen op 7 juni 2009 vergrootte Groen! zijn aantal zetels in het Vlaams Parlement van 6 naar 7. Na de Europese verkiezingen die ook op 7 juni gehouden werden, bleef Bart Staes de enige vertegenwoordiger in het Europees Parlement voor de Vlaamse groene partij.', 'Eind 2009 beslisten zowel Groen! als de Sociaal-Liberale Partij dat SLP voortaan deel zou uitmaken van Groen!.', 'Niet iedereen was daar echter mee akkoord: ex-minister Jef Tavernier en Rita Brauwers, fractieleidster in de Brugse gemeenteraad, verlieten uit onvrede de partij.', 'In het voorjaar van 2008 werd Wouter Van Besien, die bij de voorzittersverkiezingen tweede was, aangeduid als ondervoorzitter.', 'Op 25 oktober 2009 volgde hij Vogels - die ontslag nam - op als voorzitter, terwijl Björn Rzoska ondervoorzitter werd.', 'In 2013 werd die laatste opgevolgd door Elke Van den Brandt.', 'Op 11 januari 2012 veranderde de naam Groen! in Groen.', 'De partij nam ook een nieuw logo en een nieuwe ondertitel aan: Werkt voor iedereen.']\n['Voor het eerst slaagt de partij erin op provinciaal niveau deel uit te maken van het bestuur, namelijk in Vlaams-Brabant.', 'Op zaterdag 15 december 2012 legde Luc Robijns de eed af als provinciaal gedeputeerde.', 'Hij werd in september 2014 opgevolgd door Tie Roefs.', 'Agalev, zoals de partij tot 2003 heette, kende geen echte partijvoorzitter.', 'Zowel het wekelijkse Uitvoerend Comité als de maandelijkse Stuurgroep werden voorgezeten door een gespreksleider.', 'Het dagelijks bestuur lag bij de secretarisenerzijds en de fractieleiders in de parlementen anderzijds.', 'De voorzitter en ondervoorzitter worden door de leden op een congres verkozen voor een termijn van vijf jaar.', 'Zij moeten een verschillende genderidentiteit hebben.', 'Antonij Herman Gerard Fokker was een Nederlandse luchtvaartpionier en vliegtuigbouwer.', 'Het vliegtuigbedrijf Fokker is naar hem genoemd.']\n['Fokker, lid van de patriciaatsfamilie Fokker, werd op 6 april 1890 geboren op Java, in het toenmalige Nederlands-Indië, als zoon van de koffieplanter Herman Fokker.', 'Vier jaar later verhuisde de familie naar Haarlem om Tony en zijn oudere zus Toos een Nederlandse opvoeding te kunnen geven.', 'Fokker senior was een self-made man, en ook Anthony zelf hield het op school niet uit.', 'Hij speelde liever met zijn modeltrein en zijn stoommachine.', 'Hij verliet de middelbare school voortijdig.', 'Hij vond een lekvrije band uit, maar de uitvinding bleek al door een ander gepatenteerd.', 'In de zomer van 1910 stuurde zijn vader hem naar een monteuropleiding in Duitsland.', 'Fokker wilde echter liever vliegen, en besloot naar een andere school te gaan.', 'Zijn eerste propellervliegtuigje, dat hij in 1910 ontwierp en construeerde, noemde hij De Spin.', 'Op 31 augustus 1911 gaf hij ter opluistering van Koninginnedag in Haarlem een vliegdemonstratie vanaf het kermisterrein bij de Schoterveense Molen.']\n100\n0\n"
    }
   ],
   "source": [
    "import re\n",
    "sample_file_name = \"../dutch-language/data/sample-sentences-nlwiki.txt\"\n",
    "short_file_name = \"../dutch-language/data/short-sentences-nlwiki.txt\"\n",
    "full_file_name = \"../dutch-language/data/clean-sentences-nlwiki.txt\"\n",
    "corrected_file_name = \"../dutch-language/data/corrected-sentences-nlwiki.txt\"\n",
    "\n",
    "sentences_file_name = corrected_file_name\n",
    "\n",
    "positives_file_name = \"../dutch-language/data/positive-sentences-001.txt\"\n",
    "\n",
    "BATCH_SIZE = 10\n",
    "TOTAL_SIZE = 100\n",
    "\n",
    "regex_nd = re.compile(r'.*')\n",
    "with open(sentences_file_name, 'r') as sentences_file:\n",
    "    with open(positives_file_name, 'w') as positives_file:\n",
    "        total_count = 0\n",
    "        match_count = 0\n",
    "        batch = []\n",
    "        batch_count = len(batch)\n",
    "\n",
    "        for line in sentences_file:\n",
    "            # total size\n",
    "            total_count += 1\n",
    "            if (total_count >= TOTAL_SIZE):\n",
    "                break\n",
    "\n",
    "            # fill batch    \n",
    "            clean_line = line.rstrip()\n",
    "            if (regex_nd.match(clean_line)):\n",
    "                batch_count += 1\n",
    "                batch.append(clean_line)\n",
    "                if batch_count >= BATCH_SIZE:\n",
    "                    print(batch)\n",
    "                    batch = []\n",
    "                    batch_count = len(batch)\n",
    "\n",
    "\n",
    "print(total_count)\n",
    "print(match_count)"
   ]
  },
  {
   "cell_type": "code",
   "execution_count": 9,
   "metadata": {},
   "outputs": [
    {
     "output_type": "stream",
     "name": "stdout",
     "text": "<class 'simpletransformers.classification.classification_model.ClassificationModel'>\n"
    }
   ],
   "source": [
    "from simpletransformers.classification import ClassificationModel\n",
    "import pandas as pd\n",
    "import logging\n",
    "\n",
    "logging.basicConfig(level=logging.INFO)\n",
    "transformers_logger = logging.getLogger(\"transformers\")\n",
    "transformers_logger.setLevel(logging.WARNING)\n",
    "\n",
    "model = ClassificationModel(\n",
    "    \"roberta\", \"outputs/RoBERTa-003\", use_cuda=True\n",
    ")\n",
    "print(type(model))\n"
   ]
  },
  {
   "cell_type": "code",
   "execution_count": 10,
   "metadata": {},
   "outputs": [
    {
     "output_type": "stream",
     "name": "stderr",
     "text": "INFO:simpletransformers.classification.classification_model: Converting to features started. Cache is not used.\n100%|██████████| 44/44 [00:00<00:00, 633.48it/s]\n100%|██████████| 6/6 [00:01<00:00,  4.42it/s]\n[0 0 0 0 0 0 0 0 0 0 0 0 1 1 1 1 1 1 1 1 1 1 1 1 0 0 0 0 0 0 0 0 0 0 1 1 1\n 0 1 1 1 1 1 1]\n[[ 4.4901423 -5.2648726]\n [ 4.579213  -5.2127857]\n [ 4.376685  -4.9772987]\n [ 4.5584965 -5.264288 ]\n [ 4.4977937 -5.1056805]\n [ 4.5773697 -5.109436 ]\n [ 4.5274673 -5.1332235]\n [ 4.5871463 -5.2608356]\n [ 4.556537  -5.2161202]\n [ 4.573585  -5.135414 ]\n [ 4.6195397 -5.185835 ]\n [ 4.4106946 -5.1367016]\n [-4.7086134  5.434552 ]\n [-4.5920606  5.3240337]\n [-4.6327615  5.1654444]\n [-4.776361   5.431048 ]\n [-4.6009827  5.388742 ]\n [-4.5932117  5.3681617]\n [-4.589336   5.354123 ]\n [-4.59776    5.1534967]\n [-4.6180773  5.1778216]\n [-4.64323    5.4163637]\n [-4.7370095  5.449645 ]\n [-4.5764985  5.0975075]\n [ 2.7234263 -2.864954 ]\n [ 4.547414  -5.14522  ]\n [ 4.445912  -5.053501 ]\n [ 4.256452  -4.8829684]\n [ 4.4687257 -5.109558 ]\n [ 4.4301257 -5.07444  ]\n [ 4.5616384 -5.1964564]\n [ 4.261184  -4.685912 ]\n [ 4.438639  -5.019965 ]\n [ 4.3783913 -4.914234 ]\n [-4.6018367  5.3245087]\n [-4.7017856  5.515843 ]\n [-4.6167684  5.3864737]\n [ 4.096218  -4.4969306]\n [-4.6056914  5.1128902]\n [-4.5884047  5.4026737]\n [-4.66569    5.3663335]\n [-4.6546     5.137302 ]\n [-4.5950265  5.075101 ]\n [-4.6348624  5.073843 ]]\n\n"
    }
   ],
   "source": [
    "predictions, raw_outputs = model.predict([\n",
    "    \"Ik word nieuwsgierig.\",\n",
    "    \"Hoe word je gevraagd?\",\n",
    "    \"Wat wordt je gevraagd?\",\n",
    "    \"Wat word je opdringerig, zeg!\",\n",
    "\n",
    "    \"Ik zend een pakje.\",\n",
    "    \"Ik zend je een pakje.\",\n",
    "    \"Ik zend u een heel mooie trui.\",\n",
    "    \"Je zendt het toch nog vandaag op, hoop ik.\", #\n",
    "    \"Jij zendt een hele grote doos naar oma.\",\n",
    "    \"Zend je dat straks uit?\", #\n",
    "    \"Zend jij echt die fiets via de post?\",\n",
    "    \"Welke baas zendt je nu helemaal naar London voor 1 klant?\",\n",
    "\n",
    "    # With spelling mistake\n",
    "    \"Ik wordt nieuwsgierig.\",\n",
    "    \"Hoe wordt je gevraagd?\",\n",
    "    \"Wat word je gevraagd?\",\n",
    "    \"Wat wordt je opdringerig, zeg!\",\n",
    "\n",
    "    \"Ik zendt een pakje.\",\n",
    "    \"Ik zendt je een pakje.\",\n",
    "    \"Ik zendt u een heel mooie trui.\", #\n",
    "    \"Je zend het toch nog vandaag op, hoop ik.\",\n",
    "    \"Jij zend een hele grote doos naar oma.\",\n",
    "    \"Zendt je dat straks uit?\", #\n",
    "    \"Zendt jij echt die fiets via de post?\",\n",
    "    \"Welke baas zend je nu helemaal naar London voor 1 klant?\",\n",
    "\n",
    "    # Trying other words\n",
    "    # Correct spelling\n",
    "    \"Ik vind dit toch niet zo mooi.\",\n",
    "    \"Wat vind jij van al die aandacht?\",\n",
    "    \"Hoe vind ik nu de ingang?\",\n",
    "    \"Het is toch erg dat hij dat niet vindt.\",\n",
    "    \"Hoe zwaar vindt hij de opleiding?\",\n",
    "\n",
    "    \"Ik loop er zo maar voorbij.\",\n",
    "    \"Loop jij ook zo snel?\",\n",
    "    \"Je loopt daar beter niet telkens over.\",\n",
    "    \"Jij loopt echt helemaal naar zee?\",\n",
    "    \"En daarom loopt hij er met een grote bocht omheen.\",\n",
    "\n",
    "    # With spelling mistake\n",
    "    \"Ik vindt dit toch niet zo mooi.\",\n",
    "    \"Wat vindt jij van al die aandacht?\",\n",
    "    \"Hoe vindt ik nu de ingang?\",\n",
    "    \"Het is toch erg dat hij dat niet vind.\", # Incorrectly evaluated to \"0\"\n",
    "    \"Hoe zwaar vind hij de opleiding?\",\n",
    "\n",
    "    \"Ik loopt er zo maar voorbij.\",\n",
    "    \"Loopt jij ook zo snel?\",\n",
    "    \"Je loop daar beter niet telkens over.\",\n",
    "    \"Jij loop echt helemaal naar zee?\",\n",
    "    \"En daarom loop hij er met een grote bocht omheen.\"\n",
    "])\n",
    "print()\n",
    "print(predictions)\n",
    "print(raw_outputs)\n",
    "\n",
    "# Expected           [0 0 0 0 0 0 0 0 0 0 0 0 1 1 1 1 1 1 1 1 1 1 1 1 0 0 0 0 0 0 0 0 0 0 1 1 1 1 1 1 1 1 1 1]\n",
    "# Actual RoBERTa-001 [0 0 0 0 0 0 0 0 0 0 0 0 1 1 1 1 1 1 1 1 1 1 1 1 0 0 0 0 0 0 0 0 0 0 1 1 1 0 1 1 1 1 1 1]\n",
    "# Actual RoBERTa-002 [0 0 0 0 0 0 0 0 0 0 0 0 1 1 1 1 1 1 1 1 1 1 1 1 0 0 0 0 0 0 0 0 0 0 1 1 1 0 1 1 0 1 1 1]\n",
    "# Actual RoBERTa-003 [0 0 0 0 0 0 0 0 0 0 0 0 1 1 1 1 1 1 1 1 1 1 1 1 0 0 0 0 0 0 0 0 0 0 1 1 1 0 1 1 1 1 1 1]\n",
    "# Actual    BERT-001 [0 0 0 0 0 0 0 0 0 0 0 0 1 1 1 1 1 1 1 1 1 1 1 1 0 0 0 0 0 0 0 0 0 0 1 1 1 0 0 1 1 0 1 0]\n",
    "\n"
   ]
  },
  {
   "cell_type": "code",
   "execution_count": null,
   "metadata": {},
   "outputs": [],
   "source": []
  }
 ],
 "metadata": {
  "language_info": {
   "codemirror_mode": {
    "name": "ipython",
    "version": 3
   },
   "file_extension": ".py",
   "mimetype": "text/x-python",
   "name": "python",
   "nbconvert_exporter": "python",
   "pygments_lexer": "ipython3",
   "version": "3.8.2-final"
  },
  "orig_nbformat": 2,
  "kernelspec": {
   "name": "python38264bita71a60f45b8e4338b01992b37d5c2d2a",
   "display_name": "Python 3.8.2 64-bit"
  }
 },
 "nbformat": 4,
 "nbformat_minor": 2
}