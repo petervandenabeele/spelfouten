{
 "cells": [
  {
   "cell_type": "code",
   "execution_count": 1,
   "metadata": {},
   "outputs": [
    {
     "output_type": "stream",
     "name": "stdout",
     "text": "test\n"
    }
   ],
   "source": [
    "print(\"test\")"
   ]
  },
  {
   "cell_type": "code",
   "execution_count": 5,
   "metadata": {
    "tags": [
     "outputPrepend"
    ]
   },
   "outputs": [
    {
     "output_type": "stream",
     "name": "stdout",
     "text": "Voor communicatie werd het zend- en ontvangstation Radio Malabar gebruikt, dat intercontinentaal telefoneren mogelijk maakte met Nederland.\nPZB bestaat uit een passieve LC-kring naast het spoor bij het sein en een actieve zend/ontvangspoel aan de trein.\nin Openbaringen 1 schrijft Johannes het volgende: Hetgeen gij ziet, schrijf dat in een boek en zend het aan de zeven gemeenten.\nDe zend- en ontvangstapparatuur is meestal ondergebracht in een gebouw, kast of container.\nRTL 4 zend het programma in december 2019 en januari 2020 uit.\nEen oplossing is dan een digitale hoofdtelefoon die in en rond de 2,4 GHz ontvangt en zend.\nEn in het heldendicht Hákonarmál is het Hákon de Goede die naar Walhalla wordt gevoerd door de walkure Göndul en Odin zend Hermóðr en Bragi om hem te begroeten.\nVal binnen als de bewoners om hulp vragen, neem het land in, zend kolonisten naar het gebied of de vorst moet er zelf gaan wonen.\n1000000\n21\n"
    }
   ],
   "source": [
    "import re\n",
    "sample_file_name = \"../dutch-language/data/sample-sentences-nlwiki.txt\"\n",
    "short_file_name = \"../dutch-language/data/short-sentences-nlwiki.txt\"\n",
    "full_file_name = \"../dutch-language/data/clean-sentences-nlwiki.txt\"\n",
    "corrected_file_name = \"../dutch-language/data/corrected-sentences-nlwiki.txt\"\n",
    "\n",
    "file_name = corrected_file_name\n",
    "\n",
    "regex_worden = re.compile(r'(.+ z|Z)end\\b.*')\n",
    "with open(file_name) as file:\n",
    "    total_count = 0\n",
    "    match_count = 0\n",
    "\n",
    "    for line in file:\n",
    "        if (total_count >= 1000000):\n",
    "            break\n",
    "        total_count += 1\n",
    "        clean_line = line.rstrip()\n",
    "        if (regex_worden.match(clean_line)):\n",
    "            match_count += 1\n",
    "            if (total_count > 500000):\n",
    "                print(clean_line)\n",
    "\n",
    "    print(total_count)\n",
    "    print(match_count)"
   ]
  },
  {
   "cell_type": "code",
   "execution_count": 1,
   "metadata": {},
   "outputs": [
    {
     "output_type": "stream",
     "name": "stdout",
     "text": "<class 'simpletransformers.classification.classification_model.ClassificationModel'>\n"
    }
   ],
   "source": [
    "from simpletransformers.classification import ClassificationModel\n",
    "import pandas as pd\n",
    "import logging\n",
    "\n",
    "logging.basicConfig(level=logging.INFO)\n",
    "transformers_logger = logging.getLogger(\"transformers\")\n",
    "transformers_logger.setLevel(logging.WARNING)\n",
    "\n",
    "model = ClassificationModel(\n",
    "    \"roberta\", \"outputs/RoBERTa-001\", use_cuda=True\n",
    ")\n",
    "print(type(model))\n"
   ]
  },
  {
   "cell_type": "code",
   "execution_count": 6,
   "metadata": {},
   "outputs": [
    {
     "output_type": "stream",
     "name": "stderr",
     "text": "INFO:simpletransformers.classification.classification_model: Converting to features started. Cache is not used.\n100%|██████████| 44/44 [00:00<00:00, 302.18it/s]\n100%|██████████| 6/6 [00:01<00:00,  4.20it/s]\n[0 0 0 0 0 0 0 0 0 0 0 0 1 1 1 1 1 1 1 1 1 1 1 1 0 0 0 0 0 0 0 0 0 0 1 1 1\n 0 1 1 1 1 1 1]\n[[ 4.915488   -4.789471  ]\n [ 4.839436   -4.840326  ]\n [ 4.8377805  -4.830837  ]\n [ 4.910914   -4.896868  ]\n [ 4.8765435  -4.702445  ]\n [ 4.861317   -4.7078547 ]\n [ 4.8241663  -4.7353034 ]\n [ 4.830417   -4.747499  ]\n [ 4.7849355  -4.7121396 ]\n [ 4.729992   -4.657965  ]\n [ 4.7955823  -4.7781553 ]\n [ 4.705295   -4.7266016 ]\n [-4.787341    5.1297984 ]\n [-4.793274    5.018534  ]\n [-4.627256    4.660578  ]\n [-4.6352367   4.9608326 ]\n [-4.767566    5.138868  ]\n [-4.7389708   5.115666  ]\n [-4.737144    5.124101  ]\n [-4.6974187   4.7999873 ]\n [-4.7432747   4.797371  ]\n [-4.758967    5.077504  ]\n [-4.752236    5.053839  ]\n [-4.560308    4.6208158 ]\n [ 4.019045   -3.9757798 ]\n [ 4.4000516  -4.088637  ]\n [ 4.4310527  -4.48809   ]\n [ 3.8491602  -3.7064345 ]\n [ 4.2272773  -4.2543178 ]\n [ 4.2177587  -4.1253347 ]\n [ 4.182225   -4.1411967 ]\n [ 3.8846347  -3.796577  ]\n [ 4.352478   -4.2370124 ]\n [ 3.8813267  -3.793125  ]\n [-4.7482777   4.993416  ]\n [-4.5078745   4.7822313 ]\n [-4.766583    4.9787846 ]\n [ 3.5777466  -3.4364552 ]\n [-4.487437    4.357367  ]\n [-3.1537135   3.669267  ]\n [-0.3910554   0.76260525]\n [-2.0405998   1.9905955 ]\n [-2.184895    2.2977068 ]\n [-3.6403978   3.7440526 ]]\n\n"
    }
   ],
   "source": [
    "predictions, raw_outputs = model.predict([\n",
    "    \"Ik word nieuwsgierig.\",\n",
    "    \"Hoe word je gevraagd?\",\n",
    "    \"Wat wordt je gevraagd?\",\n",
    "    \"Wat word je opdringerig, zeg!\",\n",
    "\n",
    "    \"Ik zend een pakje.\",\n",
    "    \"Ik zend je een pakje.\",\n",
    "    \"Ik zend u een heel mooie trui.\",\n",
    "    \"Je zendt het toch nog vandaag op, hoop ik.\", #\n",
    "    \"Jij zendt een hele grote doos naar oma.\",\n",
    "    \"Zend je dat straks uit?\", #\n",
    "    \"Zend jij echt die fiets via de post?\",\n",
    "    \"Welke baas zendt je nu helemaal naar London voor 1 klant?\",\n",
    "\n",
    "    # With spelling mistake\n",
    "    \"Ik wordt nieuwsgierig.\",\n",
    "    \"Hoe wordt je gevraagd?\",\n",
    "    \"Wat word je gevraagd?\",\n",
    "    \"Wat wordt je opdringerig, zeg!\",\n",
    "\n",
    "    \"Ik zendt een pakje.\",\n",
    "    \"Ik zendt je een pakje.\",\n",
    "    \"Ik zendt u een heel mooie trui.\", #\n",
    "    \"Je zend het toch nog vandaag op, hoop ik.\",\n",
    "    \"Jij zend een hele grote doos naar oma.\",\n",
    "    \"Zendt je dat straks uit?\", #\n",
    "    \"Zendt jij echt die fiets via de post?\",\n",
    "    \"Welke baas zend je nu helemaal naar London voor 1 klant?\",\n",
    "\n",
    "    # Trying other words\n",
    "    # Correct spelling\n",
    "    \"Ik vind dit toch niet zo mooi.\",\n",
    "    \"Wat vind jij van al die aandacht?\",\n",
    "    \"Hoe vind ik nu de ingang?\",\n",
    "    \"Het is toch erg dat hij dat niet vindt.\",\n",
    "    \"Hoe zwaar vindt hij de opleiding?\",\n",
    "\n",
    "    \"Ik loop er zo maar voorbij.\",\n",
    "    \"Loop jij ook zo snel?\",\n",
    "    \"Je loopt daar beter niet telkens over.\",\n",
    "    \"Jij loopt echt helemaal naar zee?\",\n",
    "    \"En daarom loopt hij er met een grote bocht omheen.\",\n",
    "\n",
    "    # With spelling mistake\n",
    "    \"Ik vindt dit toch niet zo mooi.\",\n",
    "    \"Wat vindt jij van al die aandacht?\",\n",
    "    \"Hoe vindt ik nu de ingang?\",\n",
    "    \"Het is toch erg dat hij dat niet vind.\", # Incorrectly evaluated to 0\"\n",
    "    \"Hoe zwaar vind hij de opleiding?\",\n",
    "\n",
    "    \"Ik loopt er zo maar voorbij.\",\n",
    "    \"Loopt jij ook zo snel?\",\n",
    "    \"Je loop daar beter niet telkens over.\",\n",
    "    \"Jij loop echt helemaal naar zee?\",\n",
    "    \"En daarom loop hij er met een grote bocht omheen.\"\n",
    "])\n",
    "print()\n",
    "print(predictions)\n",
    "print(raw_outputs)\n",
    "\n",
    "# Expected [0 0 0 0 0 0 0 0 0 0 0 0 1 1 1 1 1 1 1 1 1 1 1 1 0 0 0 0 0 0 0 0 0 0 1 1 1 1 1 1 1 1 1 1]\n",
    "# Actual   [0 0 0 0 0 0 0 0 0 0 0 0 1 1 1 1 1 1 1 1 1 1 1 1 0 0 0 0 0 0 0 0 0 0 1 1 1 0 1 1 1 1 1 1]\n",
    "\n"
   ]
  },
  {
   "cell_type": "code",
   "execution_count": null,
   "metadata": {},
   "outputs": [],
   "source": []
  }
 ],
 "metadata": {
  "language_info": {
   "codemirror_mode": {
    "name": "ipython",
    "version": 3
   },
   "file_extension": ".py",
   "mimetype": "text/x-python",
   "name": "python",
   "nbconvert_exporter": "python",
   "pygments_lexer": "ipython3",
   "version": "3.8.2-final"
  },
  "orig_nbformat": 2,
  "kernelspec": {
   "name": "python38264bita71a60f45b8e4338b01992b37d5c2d2a",
   "display_name": "Python 3.8.2 64-bit"
  }
 },
 "nbformat": 4,
 "nbformat_minor": 2
}