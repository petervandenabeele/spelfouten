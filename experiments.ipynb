{
 "cells": [
  {
   "cell_type": "code",
   "execution_count": 1,
   "metadata": {},
   "outputs": [
    {
     "output_type": "stream",
     "name": "stdout",
     "text": "test\n"
    }
   ],
   "source": [
    "print(\"test\")"
   ]
  },
  {
   "cell_type": "code",
   "execution_count": 40,
   "metadata": {
    "tags": [
     "outputPrepend"
    ]
   },
   "outputs": [
    {
     "output_type": "stream",
     "name": "stdout",
     "text": "Hij belooft hierbij de Heilige Geest te zenden en geeft ze de opdracht: Zoals de Vader Mij heeft uitgezonden, zo zend Ik jullie uit.\nEnkel Turkse staats tv zend nog in Koerdisch uit.\nDe frequentiekeuze hangt echter ook af van benodigde zend- en ontvangstantenne, doordringbaarheid van de atmosfeer , al of niet gewenste doordringbaarheid van muren, enzovoort.\nDe laagfrequente zend- en ontvangstapparatuur waarmee de Itasca het vliegtuig had kunnen lokaliseren, had Earhart in Nieuw-Guinea achtergelaten.\nEr kan gebruik worden gemaakt van twee antennes, één zend- en één ontvangstantenne, maar tegenwoordig gebruikt men veelal één antenne voor zowel het zenden als het ontvangen.\nOok werd de voorgeïoniseerde vacuümbuis die als zend/ontvangstschakelaar fungeerde, vervangen door een golfpijpsysteem, de Magic-T.\nOp het moment dat de zender in werking is detecteert de zend/ontvangschakelaar dit en schakelt bijna tijdloos over naar de stand zenden.\nHierdoor zullen doelen die binnen de waarnemingshorizon vallen gedurende elke zend- en ontvangstcyclus een constante echotijd hebben ten opzichte van de zendpuls, terwijl de echo's van doelen die buiten de waarnemingshorizon vallen op een enigszins variërende afstand te zien zijn .\nSignaalversterkers zijn kleine zend- en ontvangstations die kunnen worden ingezet als het signaal inpandig niet toereikend is.\nIn principe zijn er geen verschillen tussen een zend- en ontvangantenne, in de praktijk zullen de gestelde eisen de uitvoering en constructie bepalen.\nVoor zowel een zend- als een ontvangstantenne is de richtingskarakteristiek een belangrijke eigenschap.\nBedoeld wordt een modem met meerdere zend/ontvangmodules.\nHet leeuwendeel van de ontdekte neutronensterren zend ook radiostraling uit, inclusief die in röntgen, optisch en gammastraling gedetecteerd zijn; de Krabpulsar bijvoorbeeld produceert elektromagnetische straling over het gehele spectrum.\nVoor communicatie werd het zend- en ontvangstation Radio Malabar gebruikt, dat intercontinentaal telefoneren mogelijk maakte met Nederland.\nPZB bestaat uit een passieve LC-kring naast het spoor bij het sein en een actieve zend/ontvangspoel aan de trein.\nin Openbaringen 1 schrijft Johannes het volgende: Hetgeen gij ziet, schrijf dat in een boek en zend het aan de zeven gemeenten.\nDe zend- en ontvangstapparatuur is meestal ondergebracht in een gebouw, kast of container.\nRTL 4 zend het programma in december 2019 en januari 2020 uit.\nEen oplossing is dan een digitale hoofdtelefoon die in en rond de 2,4 GHz ontvangt en zend.\nEn in het heldendicht Hákonarmál is het Hákon de Goede die naar Walhalla wordt gevoerd door de walkure Göndul en Odin zend Hermóðr en Bragi om hem te begroeten.\nVal binnen als de bewoners om hulp vragen, neem het land in, zend kolonisten naar het gebied of de vorst moet er zelf gaan wonen.\nAls communicatiebedrijf experimenteerde Motorola binnen zijn ploeg voor het eerst met zend- en ontvangstapparatuur voor communicatie tussen de renners en de ploegleiding.\nIn 1991 kwamen producenten van consumentenelektronica, zend-organisaties en regelgevende instanties bijeen om de mogelijkheden van digitale televisie te bespreken.\nEn mijn broer Aaron is welsprekender dan ik; zend hem als hulp met mij mee om wat ik zeg te bevestigen, want ik ben bang dat zij mij van leugens zullen betichten.\nZend- en ontvangstantennes moeten dezelfde polarisatierichting hebben.\nBij het ontwerp van zend- en ontvangantennes moet ermee rekening worden gehouden dat het oppervlak van de toegepaste geleiders dus de meeste RF-stroom zal voeren.\nOnder normale omstandigheden worden meestal geen afstanden groter dan 100 km overbrugd, afhankelijk van de hoogte van de zend- en ontvangstantenne, het zendervermogen en de omliggende topografie van het land.\nDeze instrumenten hebben hun eigen communicatie-antennes en zend/ontvangst-frequenties en maken dus geen deel uit van het iridium netwerk.\nIn een joodse pseudepigrafische tekst, het Testament van Abraham zend God de aartsengel Michaël naar Abraham met de boodschap dat deze zich dient voor te bereiden op zijn aanstaande dood.\nSinds 2013 zend Groot Nieuws Radio voorafgaand aan Opwekking een Top 100 uit van meest populaire Opwekkingsliederen.\nDe collectie toont antieke zend- en ontvangsttoestellen en er is een documentatiecentrum aan het museum verbonden.\nHet verenigingsorgaan Electron verschijnt 12 maal per jaar en bevat naast verenigingsnieuws ook technische artikelen over zend- en ontvangtechnieken.\nEen dergelijk bericht kan een directe geheugen leestoegang of schrijfoperatie zijn van of naar een andere node , een zend- of ontvangstpakket, een transactiegebaseerde operatie of een multicasttransmissie.\nHoe moest de situatie dus worden weergegeven? Hülsmeyer gebruikte een ronddraaiende wijzer, die altijd dezelfde richting opwees als de zend- en ontvangstantennes.\nMet MIMO wordt in het algemeen gebruikt voor de techniek waarbij verschillende datastromen over de verschillende zend- en ontvangstantennes worden verzonden.\nDe redenen hiervoor zijn de hoge complexiteit van de onderliggende berekeningen en het feit dat meerdere zend- en ontvangsttrappen nodig zijn.\nDeze zaak verergerde toen Thijssen in maart en april 1943 de hand wist te leggen op enkele zend-ontvangers, zendschema’s en codegegevens die een direct zendcontact met Engeland mogelijk maakte.\nThijssen besloot deze zend-ontvangers buiten de OD om te gebruiken voor zijn eigen doeleinden.\nVanaf 1951 was het net landelijk dekkend, met 35 zend/ontvanginstallaties die in de 80 MHz band werkten.\nEen portofoon, ook wel walkietalkie genoemd, is een draagbaar zend-ontvangtoestel voor communicatie tussen meerdere personen.\nDie wordt vooral veroorzaakt doordat niet duidelijk is op welk moment een radio met zend- en ontvangstmogelijkheid verandert in een portofoon.\nEen gebed van Apollonius van Tyana uit ongeveer het jaar 23 AD: O, God van de Zon, zend me zover rond de wereld als goed is voo mij en jou, en dat ik goede mensen mag ontmoeten, maar nooit de slechte leer kennen, noch zij mij.\nVoor het ontvangen van omroepsignalen wordt de kenmerkende zend- en ontvangstmast van Naaldwijk gebouwd.\nMet de wet van behoud van energie geldt dan ook dat met 100 W aan de zend-trap nog steeds minder dan 100 W door de antenne uitgestraald zal worden.\nDeze fabriek richtte zich in eerste instantie op de productie van zend- en ontvanginstallaties voor schepen en vliegtuigen.\nMet zijn zend- en ontvangschoen roept hij Jerom en professor Barabas op en zij verslaan de tempelwachters in de doolhof.\nHet woord radio wordt eveneens gebruikt als afkorting voor radio-omroep, radio-ontvanger en zend- en ontvangapparatuur.\nSponsor Motorola is een Amerikaans elektronicabedrijf en het experimenteerde als eerste met het gebruik van zend- en ontvangstapparatuur in de koers , waarmee renners contact kunnen houden met de sportdirecteur in de volgwagen.\nDe toren is ontworpen als onderkomen voor omroepzenders en als zend- en ontvangstation voor PTT/KPN straalverbindingen voor telefonie.\nEn zend daarna een evaluatieteam in als iedereen is afgekoeld.\n3000000\n50\n"
    }
   ],
   "source": [
    "import re\n",
    "sample_file_name = \"../dutch-language/data/sample-sentences-nlwiki.txt\"\n",
    "short_file_name = \"../dutch-language/data/short-sentences-nlwiki.txt\"\n",
    "full_file_name = \"../dutch-language/data/clean-sentences-nlwiki.txt\"\n",
    "corrected_file_name = \"../dutch-language/data/corrected-sentences-nlwiki.txt\"\n",
    "\n",
    "file_name = corrected_file_name\n",
    "\n",
    "regex_worden = re.compile(r'(.+ z|Z)end\\b.*')\n",
    "with open(file_name) as file:\n",
    "    total_count = 0\n",
    "    match_count = 0\n",
    "\n",
    "    for line in file:\n",
    "        if (total_count >= 3000000):\n",
    "            break\n",
    "        total_count += 1\n",
    "        clean_line = line.rstrip()\n",
    "        if (regex_worden.match(clean_line)):\n",
    "            match_count += 1\n",
    "            print(clean_line)\n",
    "\n",
    "    print(total_count)\n",
    "    print(match_count)"
   ]
  },
  {
   "cell_type": "code",
   "execution_count": 11,
   "metadata": {},
   "outputs": [
    {
     "output_type": "stream",
     "name": "stdout",
     "text": "<class 'simpletransformers.classification.classification_model.ClassificationModel'>\n"
    }
   ],
   "source": [
    "from simpletransformers.classification import ClassificationModel\n",
    "import pandas as pd\n",
    "import logging\n",
    "\n",
    "logging.basicConfig(level=logging.INFO)\n",
    "transformers_logger = logging.getLogger(\"transformers\")\n",
    "transformers_logger.setLevel(logging.WARNING)\n",
    "\n",
    "model = ClassificationModel(\n",
    "    \"bert\", \"outputs/\", use_cuda=True\n",
    ")\n",
    "print(type(model))\n"
   ]
  },
  {
   "cell_type": "code",
   "execution_count": 23,
   "metadata": {},
   "outputs": [
    {
     "output_type": "stream",
     "name": "stderr",
     "text": "INFO:simpletransformers.classification.classification_model: Converting to features started. Cache is not used.\n100%|██████████| 24/24 [00:00<00:00, 1110.85it/s]\n100%|██████████| 3/3 [00:00<00:00,  4.09it/s]\n[0 0 0 0 0 0 0 1 0 1 0 0 1 1 1 1 0 0 1 0 0 1 0 0]\n[[ 5.028973   -4.6238155 ]\n [ 5.015533   -4.553905  ]\n [ 5.001874   -4.5051813 ]\n [ 4.8724637  -4.4218674 ]\n [ 1.6203022  -1.5378906 ]\n [ 0.12602812 -0.5217313 ]\n [ 0.61012554 -1.0169847 ]\n [-2.5860054   2.0353255 ]\n [ 0.16640593 -0.02767875]\n [-1.3042836   0.9139959 ]\n [ 3.6788774  -3.0821662 ]\n [ 1.0925493  -0.8713497 ]\n [-5.3947897   4.4733806 ]\n [-5.344915    4.23907   ]\n [-5.315748    4.102456  ]\n [-5.1123905   3.8351293 ]\n [ 0.61081254 -0.63338786]\n [ 0.76848555 -0.9399009 ]\n [-0.82137966  0.20406562]\n [ 0.6587549  -0.63729113]\n [ 0.17024972 -0.11657579]\n [-4.6694126   3.7321732 ]\n [ 2.6194382  -2.2857945 ]\n [ 0.5402404  -0.7211295 ]]\n\n"
    }
   ],
   "source": [
    "predictions, raw_outputs = model.predict([\n",
    "    \"Ik word nieuwsgierig.\",\n",
    "    \"Hoe word je gevraagd?\",\n",
    "    \"Wat wordt je gevraagd?\",\n",
    "    \"Wat word je opdringerig, zeg!\",\n",
    "\n",
    "    \"Ik zend een pakje.\",\n",
    "    \"Ik zend je een pakje.\",\n",
    "    \"Ik zend u een heel mooie trui.\",\n",
    "    \"Je zendt het toch nog vandaag op, hoop ik.\", #\n",
    "    \"Jij zendt een hele grote doos naar oma.\",\n",
    "    \"Zend je dat straks uit?\", #\n",
    "    \"Zend jij echt die fiets via de post?\",\n",
    "    \"Welke baas zendt je nu helemaal naar London voor 1 klant?\",\n",
    "\n",
    "    # With spelling mistake\n",
    "    \"Ik wordt nieuwsgierig.\",\n",
    "    \"Hoe wordt je gevraagd?\",\n",
    "    \"Wat word je gevraagd?\",\n",
    "    \"Wat wordt je opdringerig, zeg!\",\n",
    "\n",
    "    \"Ik zendt een pakje.\",\n",
    "    \"Ik zendt je een pakje.\",\n",
    "    \"Ik zendt u een heel mooie trui.\", #\n",
    "    \"Je zend het toch nog vandaag op, hoop ik.\",\n",
    "    \"Jij zend een hele grote doos naar oma.\",\n",
    "    \"Zendt je dat straks uit?\", #\n",
    "    \"Zendt jij echt die fiets via de post?\",\n",
    "    \"Welke baas zend je nu helemaal naar London voor 1 klant?\",\n",
    "])\n",
    "print()\n",
    "print(predictions)\n",
    "print(raw_outputs)\n",
    "\n",
    "# Results are (still) perfect for \"worden\"\n",
    "# Results are invalid (random) for \"zenden\"\n",
    "# => no transfer learning from \"worden\" to \"zenden\" ?\n",
    "#\n",
    "# [0 0 0 0 0 0 0 1 0 1 0 0 1 1 1 1 0 0 1 0 0 1 0 0]\n",
    "# [[ 5.028973   -4.6238155 ]\n",
    "#  [ 5.015533   -4.553905  ]\n",
    "#  [ 5.001874   -4.5051813 ]\n",
    "#  [ 4.8724637  -4.4218674 ]\n",
    "\n",
    "#  [ 1.6203022  -1.5378906 ]\n",
    "#  [ 0.12602812 -0.5217313 ]\n",
    "#  [ 0.61012554 -1.0169847 ]\n",
    "#  [-2.5860054   2.0353255 ]\n",
    "#  [ 0.16640593 -0.02767875]\n",
    "#  [-1.3042836   0.9139959 ]\n",
    "#  [ 3.6788774  -3.0821662 ]\n",
    "#  [ 1.0925493  -0.8713497 ]\n",
    "\n",
    "#  [-5.3947897   4.4733806 ]\n",
    "#  [-5.344915    4.23907   ]\n",
    "#  [-5.315748    4.102456  ]\n",
    "#  [-5.1123905   3.8351293 ]\n",
    "\n",
    "#  [ 0.61081254 -0.63338786]\n",
    "#  [ 0.76848555 -0.9399009 ]\n",
    "#  [-0.82137966  0.20406562]\n",
    "#  [ 0.6587549  -0.63729113]\n",
    "#  [ 0.17024972 -0.11657579]\n",
    "#  [-4.6694126   3.7321732 ]\n",
    "#  [ 2.6194382  -2.2857945 ]\n",
    "#  [ 0.5402404  -0.7211295 ]]"
   ]
  },
  {
   "cell_type": "code",
   "execution_count": null,
   "metadata": {},
   "outputs": [],
   "source": []
  }
 ],
 "metadata": {
  "language_info": {
   "codemirror_mode": {
    "name": "ipython",
    "version": 3
   },
   "file_extension": ".py",
   "mimetype": "text/x-python",
   "name": "python",
   "nbconvert_exporter": "python",
   "pygments_lexer": "ipython3",
   "version": "3.8.2-final"
  },
  "orig_nbformat": 2,
  "kernelspec": {
   "name": "python38264bita71a60f45b8e4338b01992b37d5c2d2a",
   "display_name": "Python 3.8.2 64-bit"
  }
 },
 "nbformat": 4,
 "nbformat_minor": 2
}