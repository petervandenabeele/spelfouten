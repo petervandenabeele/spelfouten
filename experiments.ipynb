{
 "cells": [
  {
   "cell_type": "code",
   "execution_count": 1,
   "metadata": {},
   "outputs": [
    {
     "output_type": "stream",
     "name": "stdout",
     "text": "test\n"
    }
   ],
   "source": [
    "print(\"test\")"
   ]
  },
  {
   "cell_type": "code",
   "execution_count": 44,
   "metadata": {
    "tags": [
     "outputPrepend"
    ]
   },
   "outputs": [
    {
     "output_type": "stream",
     "name": "stdout",
     "text": "Verder zend het netwerk nog uit via drie televisiekanalen die niet in Telefe’s beheer zijn.\nHet schip zend signalen en bevelen uit naar de battle droids, droidekas en droid starfighters die in de buurt actief zijn.\nDe totale massa bedroeg 1327 kg; de wetenschappelijke instrumenten, zend- en ontvangstapparatuur en energievoorziening wogen 968 kg.\nSinds 12 december 2016 zend Spike dagelijks uit van 21.05 tot 5.00 uur op het kanaal van Nickelodeon.\nIn vergelijking met de Nederlandse versie zend de zender niet 24 uur per dag uit, en dat terwijl het sinds 12 december 2016 in Nederland wel het geval is.\nHet schip zend een S.O.S. uit en het eerste schot van de duikboot verbrijzelt het roer.\nIn het budget van de zone voor 2017 wordt 620.000 euro geïnvesteerd in de aankoop van persoonlijke beschermingsmiddelen, 385.000 euro in de vernieuwing van zend- en oproepapparatuur, 2,5 miljoen euro in nieuw materieel en wagens 440.000 euro in opleidingen.\nHet betreft een massive MIMO-installatie van Huawei met meerdere kleine zend- en ontvangstantennes, geplaatst op het Leidseplein door T-Mobile.\nHet radiostation zend van 5 's ochtends tot 4 uur 's middags en van 5 uur 's middags tot 10 uur 's avonds uit.\nNaast de reguliere programma's zend Omroep Helmond ook regelmatig uit vanaf locatie, als er ergens in Helmond een bijzonder evenement is.\nIn alle Wolf’s kan zend- en ontvangstapparatuur worden geplaatst.\nEchter tijdens de Tweede Wereldoorlog heeft men nog onvoldoende vertrouwen in de apparatuur en zend men met vluchten nog twee duiven mee.\nZend, de heilige taal van de Zoroastriërs zou van dit Sanzar afstammen.\nDit biecht zij op aan haar verloofde Wamgans, waarop deze Sofrelli tijdens de bruiloft weg zend.\n14029594\n139\n"
    }
   ],
   "source": [
    "import re\n",
    "sample_file_name = \"../dutch-language/data/sample-sentences-nlwiki.txt\"\n",
    "short_file_name = \"../dutch-language/data/short-sentences-nlwiki.txt\"\n",
    "full_file_name = \"../dutch-language/data/clean-sentences-nlwiki.txt\"\n",
    "corrected_file_name = \"../dutch-language/data/corrected-sentences-nlwiki.txt\"\n",
    "\n",
    "file_name = corrected_file_name\n",
    "\n",
    "regex_worden = re.compile(r'(.+ z|Z)end\\b.*')\n",
    "with open(file_name) as file:\n",
    "    total_count = 0\n",
    "    match_count = 0\n",
    "\n",
    "    for line in file:\n",
    "        if (total_count >= 15000000):\n",
    "            break\n",
    "        total_count += 1\n",
    "        clean_line = line.rstrip()\n",
    "        if (regex_worden.match(clean_line)):\n",
    "            match_count += 1\n",
    "            if (total_count > 10000000):\n",
    "                print(clean_line)\n",
    "\n",
    "    print(total_count)\n",
    "    print(match_count)"
   ]
  },
  {
   "cell_type": "code",
   "execution_count": 11,
   "metadata": {},
   "outputs": [
    {
     "output_type": "stream",
     "name": "stdout",
     "text": "<class 'simpletransformers.classification.classification_model.ClassificationModel'>\n"
    }
   ],
   "source": [
    "from simpletransformers.classification import ClassificationModel\n",
    "import pandas as pd\n",
    "import logging\n",
    "\n",
    "logging.basicConfig(level=logging.INFO)\n",
    "transformers_logger = logging.getLogger(\"transformers\")\n",
    "transformers_logger.setLevel(logging.WARNING)\n",
    "\n",
    "model = ClassificationModel(\n",
    "    \"bert\", \"outputs/\", use_cuda=True\n",
    ")\n",
    "print(type(model))\n"
   ]
  },
  {
   "cell_type": "code",
   "execution_count": 23,
   "metadata": {},
   "outputs": [
    {
     "output_type": "stream",
     "name": "stderr",
     "text": "INFO:simpletransformers.classification.classification_model: Converting to features started. Cache is not used.\n100%|██████████| 24/24 [00:00<00:00, 1110.85it/s]\n100%|██████████| 3/3 [00:00<00:00,  4.09it/s]\n[0 0 0 0 0 0 0 1 0 1 0 0 1 1 1 1 0 0 1 0 0 1 0 0]\n[[ 5.028973   -4.6238155 ]\n [ 5.015533   -4.553905  ]\n [ 5.001874   -4.5051813 ]\n [ 4.8724637  -4.4218674 ]\n [ 1.6203022  -1.5378906 ]\n [ 0.12602812 -0.5217313 ]\n [ 0.61012554 -1.0169847 ]\n [-2.5860054   2.0353255 ]\n [ 0.16640593 -0.02767875]\n [-1.3042836   0.9139959 ]\n [ 3.6788774  -3.0821662 ]\n [ 1.0925493  -0.8713497 ]\n [-5.3947897   4.4733806 ]\n [-5.344915    4.23907   ]\n [-5.315748    4.102456  ]\n [-5.1123905   3.8351293 ]\n [ 0.61081254 -0.63338786]\n [ 0.76848555 -0.9399009 ]\n [-0.82137966  0.20406562]\n [ 0.6587549  -0.63729113]\n [ 0.17024972 -0.11657579]\n [-4.6694126   3.7321732 ]\n [ 2.6194382  -2.2857945 ]\n [ 0.5402404  -0.7211295 ]]\n\n"
    }
   ],
   "source": [
    "predictions, raw_outputs = model.predict([\n",
    "    \"Ik word nieuwsgierig.\",\n",
    "    \"Hoe word je gevraagd?\",\n",
    "    \"Wat wordt je gevraagd?\",\n",
    "    \"Wat word je opdringerig, zeg!\",\n",
    "\n",
    "    \"Ik zend een pakje.\",\n",
    "    \"Ik zend je een pakje.\",\n",
    "    \"Ik zend u een heel mooie trui.\",\n",
    "    \"Je zendt het toch nog vandaag op, hoop ik.\", #\n",
    "    \"Jij zendt een hele grote doos naar oma.\",\n",
    "    \"Zend je dat straks uit?\", #\n",
    "    \"Zend jij echt die fiets via de post?\",\n",
    "    \"Welke baas zendt je nu helemaal naar London voor 1 klant?\",\n",
    "\n",
    "    # With spelling mistake\n",
    "    \"Ik wordt nieuwsgierig.\",\n",
    "    \"Hoe wordt je gevraagd?\",\n",
    "    \"Wat word je gevraagd?\",\n",
    "    \"Wat wordt je opdringerig, zeg!\",\n",
    "\n",
    "    \"Ik zendt een pakje.\",\n",
    "    \"Ik zendt je een pakje.\",\n",
    "    \"Ik zendt u een heel mooie trui.\", #\n",
    "    \"Je zend het toch nog vandaag op, hoop ik.\",\n",
    "    \"Jij zend een hele grote doos naar oma.\",\n",
    "    \"Zendt je dat straks uit?\", #\n",
    "    \"Zendt jij echt die fiets via de post?\",\n",
    "    \"Welke baas zend je nu helemaal naar London voor 1 klant?\",\n",
    "])\n",
    "print()\n",
    "print(predictions)\n",
    "print(raw_outputs)\n",
    "\n",
    "# Results are (still) perfect for \"worden\"\n",
    "# Results are invalid (random) for \"zenden\"\n",
    "# => no transfer learning from \"worden\" to \"zenden\" ?\n",
    "#\n",
    "# [0 0 0 0 0 0 0 1 0 1 0 0 1 1 1 1 0 0 1 0 0 1 0 0]\n",
    "# [[ 5.028973   -4.6238155 ]\n",
    "#  [ 5.015533   -4.553905  ]\n",
    "#  [ 5.001874   -4.5051813 ]\n",
    "#  [ 4.8724637  -4.4218674 ]\n",
    "\n",
    "#  [ 1.6203022  -1.5378906 ]\n",
    "#  [ 0.12602812 -0.5217313 ]\n",
    "#  [ 0.61012554 -1.0169847 ]\n",
    "#  [-2.5860054   2.0353255 ]\n",
    "#  [ 0.16640593 -0.02767875]\n",
    "#  [-1.3042836   0.9139959 ]\n",
    "#  [ 3.6788774  -3.0821662 ]\n",
    "#  [ 1.0925493  -0.8713497 ]\n",
    "\n",
    "#  [-5.3947897   4.4733806 ]\n",
    "#  [-5.344915    4.23907   ]\n",
    "#  [-5.315748    4.102456  ]\n",
    "#  [-5.1123905   3.8351293 ]\n",
    "\n",
    "#  [ 0.61081254 -0.63338786]\n",
    "#  [ 0.76848555 -0.9399009 ]\n",
    "#  [-0.82137966  0.20406562]\n",
    "#  [ 0.6587549  -0.63729113]\n",
    "#  [ 0.17024972 -0.11657579]\n",
    "#  [-4.6694126   3.7321732 ]\n",
    "#  [ 2.6194382  -2.2857945 ]\n",
    "#  [ 0.5402404  -0.7211295 ]]"
   ]
  },
  {
   "cell_type": "code",
   "execution_count": null,
   "metadata": {},
   "outputs": [],
   "source": []
  }
 ],
 "metadata": {
  "language_info": {
   "codemirror_mode": {
    "name": "ipython",
    "version": 3
   },
   "file_extension": ".py",
   "mimetype": "text/x-python",
   "name": "python",
   "nbconvert_exporter": "python",
   "pygments_lexer": "ipython3",
   "version": "3.8.2-final"
  },
  "orig_nbformat": 2,
  "kernelspec": {
   "name": "python38264bita71a60f45b8e4338b01992b37d5c2d2a",
   "display_name": "Python 3.8.2 64-bit"
  }
 },
 "nbformat": 4,
 "nbformat_minor": 2
}